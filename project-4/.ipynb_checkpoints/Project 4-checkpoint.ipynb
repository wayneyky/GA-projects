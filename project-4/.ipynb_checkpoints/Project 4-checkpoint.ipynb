{
 "cells": [
  {
   "cell_type": "markdown",
   "metadata": {},
   "source": [
    "0'9g src=\"http://imgur.com/1ZcRyrc.png\" style=\"float: left; margin: 20px; height: 55px\">\n",
    "\n",
    "# Project 4 - Web Scrapping Job Postings"
   ]
  },
  {
   "cell_type": "markdown",
   "metadata": {},
   "source": [
    "You're working as a data scientist for a contracting firm that's rapidly expanding. Now that they have their most valuable employee (you!), they need to leverage data to win more contracts. Your firm offers technology and scientific solutions and wants to be competitive in the hiring market. Your principal has two main objectives:\n",
    "\n",
    "   1. Determine the industry factors that are most important in predicting the salary amounts for these data.\n",
    "   2. Determine the factors that distinguish job categories and titles from each other. For example, can required skills accurately predict job title?\n",
    "\n",
    "To limit the scope, your principal has suggested that you *focus on data-related job postings*, e.g. data scientist, data analyst, research scientist, business intelligence, and any others you might think of. You may also want to decrease the scope by *limiting your search to a single region.*\n",
    "\n",
    "Hint: Aggregators like [Indeed.com](https://www.indeed.com) regularly pool job postings from a variety of markets and industries. \n",
    "\n",
    "**Goal:** Scrape your own data from a job aggregation tool like Indeed.com in order to collect the data to best answer these two questions.\n",
    "\n",
    "---\n",
    "\n",
    "## Requirements\n",
    "\n",
    "1. Scrape and prepare your own data.\n",
    "\n",
    "2. **Create and compare at least two models for each section**. One of the two models should be a decision tree or ensemble model. The other can be a classifier or regression of your choosing (e.g. Ridge, logistic regression, KNN, SVM, etc).\n",
    "   - Section 1: Job Salary Trends\n",
    "   - Section 2: Job Category Factors\n",
    "\n",
    "3. Prepare a polished Jupyter Notebook with your analysis for a peer audience of data scientists. \n",
    "   - Make sure to clearly describe and label each section.\n",
    "   - Comment on your code so that others could, in theory, replicate your work.\n",
    "\n",
    "4. A brief writeup in an executive summary, written for a non-technical audience.\n",
    "   - Writeups should be at least 500-1000 words, defining any technical terms, explaining your approach, as well as any risks and limitations.\n",
    "\n",
    "## Suggestions for Getting Started\n",
    "\n",
    "1. Collect data from [Indeed.com](www.indeed.com) (or another aggregator) on data-related jobs to use in predicting salary trends for your analysis.\n",
    "  - Select and parse data from *at least 1000 postings* for jobs, potentially from multiple location searches.\n",
    "2. Find out what factors most directly impact salaries (e.g. title, location, department, etc).\n",
    "  - Test, validate, and describe your models. What factors predict salary category? How do your models perform?\n",
    "3. Discover which features have the greatest importance when determining a low vs. high paying job.\n",
    "  - Your Boss is interested in what overall features hold the greatest significance.\n",
    "  - HR is interested in which SKILLS and KEY WORDS hold the greatest significance.   \n",
    "4. Author an executive summary that details the highlights of your analysis for a non-technical audience.\n",
    "5. If tackling the bonus question, try framing the salary problem as a classification problem detecting low vs. high salary positions.\n",
    "\n",
    "---\n",
    "\n",
    "## Useful Resources\n",
    "\n",
    "- Scraping is one of the most fun, useful and interesting skills out there. Don’t lose out by copying someone else's code!\n",
    "- [Here is some advice on how to write for a non-technical audience](http://programmers.stackexchange.com/questions/11523/explaining-technical-things-to-non-technical-people)\n",
    "- [Documentation for BeautifulSoup can be found here](http://www.crummy.com/software/BeautifulSoup/).\n",
    "\n",
    "---\n",
    "\n",
    "## Directions\n",
    "\n",
    "In this project you will be leveraging a variety of skills. The first will be to use the web-scraping and/or API techniques you've learned to collect data on data jobs from Indeed.com or another aggregator. Once you have collected and cleaned the data, you will use it to answer the two questions described above.\n",
    "\n",
    "---\n",
    "\n",
    "<img src=\"http://imgur.com/l5NasQj.png\" style=\"float: left; margin: 25px 15px 0px 0px; height: 25px\">\n",
    "\n",
    "# QUESTION 1: Factors that impact salary\n",
    "\n",
    "To predict salary you will be building either a classification or regression model, using features like the location, title, and summary of the job. If framing this as a regression problem, you will be estimating the listed salary amounts. You may instead choose to frame this as a classification problem, in which case you will create labels from these salaries (high vs. low salary, for example) according to thresholds (such as median salary).\n",
    "\n",
    "You have learned a variety of new skills and models that may be useful for this problem:\n",
    "- NLP\n",
    "- Unsupervised learning and dimensionality reduction techniques (PCA, clustering)\n",
    "- Ensemble methods and decision tree models\n",
    "- SVM models\n",
    "\n",
    "Whatever you decide to use, the most important thing is to justify your choices and interpret your results. *Communication of your process is key.* Note that most listings **DO NOT** come with salary information. You'll need to able to extrapolate or predict the expected salaries for these listings."
   ]
  },
  {
   "cell_type": "code",
   "execution_count": 4,
   "metadata": {},
   "outputs": [],
   "source": [
    "import pandas as pd\n",
    "import numpy as np\n",
    "import seaborn as sns\n",
    "import re, os, requests, urllib, time\n",
    "\n",
    "from selenium import webdriver\n",
    "from selenium.webdriver.common.keys import Keys\n",
    "from bs4 import BeautifulSoup\n",
    "from scrapy.selector import Selector\n",
    "from scrapy.http import HtmlResponse"
   ]
  },
  {
   "cell_type": "markdown",
   "metadata": {},
   "source": [
    "For the dataset, I have decided to scrap https://www.mycareersfuture.sg/ since they have the location, title, and summary of the job and most importantly the salary/salary range of the job listing."
   ]
  },
  {
   "cell_type": "code",
   "execution_count": 2,
   "metadata": {},
   "outputs": [
    {
     "data": {
      "text/plain": [
       "4880"
      ]
     },
     "execution_count": 2,
     "metadata": {},
     "output_type": "execute_result"
    }
   ],
   "source": [
    "#links = []\n",
    "#job_links = []\n",
    "#chromedriver = \"../chromedriver/chromedriver\"\n",
    "#os.environ[\"webdriver.chrome.driver\"] = chromedriver\n",
    "#driver1 = webdriver.Chrome()\n",
    "#for page in range(5):\n",
    "#    url = \"https://www.mycareersfuture.sg/search?search=Data%20analyst&sortBy=new_posting_date&page=\" + str(page)\n",
    "#    driver.get(url)\n",
    "## wait 3 secs after we get page\n",
    "#    time.sleep(3)\n",
    "## get page source\n",
    "#    html = driver.page_source\n",
    "## use scrappy to extract info\n",
    "#    page_links = Selector(text = html).xpath('//*[@class = \"card-list\"]//div/a/@href').extract()\n",
    "#    links.append(page_links)\n",
    "#for lists in links:\n",
    "#    for job_link in lists:\n",
    "#        job_links.append(job_link)\n",
    "#len(job_links)"
   ]
  },
  {
   "cell_type": "code",
   "execution_count": 3,
   "metadata": {},
   "outputs": [],
   "source": [
    "driver.close()"
   ]
  },
  {
   "cell_type": "code",
   "execution_count": 4,
   "metadata": {},
   "outputs": [
    {
     "name": "stdout",
     "output_type": "stream",
     "text": [
      "4880 4880 4880 4880 4880 4880 4880 4880 4880 4880\n"
     ]
    }
   ],
   "source": [
    "## data to extract\n",
    "#salary = []\n",
    "#job_title = []\n",
    "#company = []\n",
    "#month_annual = []\n",
    "#employment_type = []\n",
    "#seniority = []\n",
    "#industry = []\n",
    "#min_experience = []\n",
    "#requirement = []\n",
    "#roles_responsibilities = []\n",
    "\n",
    "\n",
    "## activating selenium\n",
    "#chromedriver = \"../chromedriver/chromedriver\"\n",
    "#os.environ[\"webdriver.chrome.driver\"] = chromedriver\n",
    "#driver = webdriver.Chrome()\n",
    "#for job_posting in job_links: \n",
    "#    url = 'https://www.mycareersfuture.sg' + job_posting\n",
    "#    driver.get(url)\n",
    "#    time.sleep(2)\n",
    "#    html = driver.page_source\n",
    "#    page_salaries = Selector(text = html).xpath('//*[@class = \"salary tr-l\"]//span[@class = \"dib\"]/text()').extract()\n",
    "#    page_company = Selector(text = html).xpath('//*[@class = \"jobInfo w-100 dib v-top relative\"]//section/p[@name = \"company\"]/text()').extract()\n",
    "#    page_job_title = Selector(text = html).xpath('//*[@class = \"jobInfo w-100 dib v-top relative\"]//section/h1[@id = \"job_title\"]/text()').extract()\n",
    "#    monthly_or = Selector(text = html).xpath('//*[@class = \"salary tr-l\"]/span[@class \\\n",
    "#                                             = \"salary_type dib f5 fw4 black-60 pr1 i pb\"]/text()').extract()\n",
    "#    employ_type = Selector(text = html).xpath('//*[@id = \"employment_type\"]//text()').extract()\n",
    "#    employ_level = Selector(text = html).xpath('//*[@id = \"seniority\"]//text()').extract()\n",
    "#    job_industry = Selector(text = html).xpath('//*[@id = \"job-categories\"]//text()').extract()\n",
    "#    minimum = Selector(text = html).xpath('//*[@id = \"min_experience\"]//text()').extract()\n",
    "#    job_require = Selector(text = html).xpath('//*[@id = \"requirements-content\"]//text()').extract()\n",
    "#    r_r = Selector(text = html).xpath('//*[@id = \"description-content\"]//text()').extract()\n",
    "    \n",
    "## consolidation of the scrapped data\n",
    "#    salary.append(page_salaries)\n",
    "#    company.append(page_company)\n",
    "#    job_title.append(page_job_title)\n",
    "#    month_annual.append(monthly_or)\n",
    "#    employment_type.append(employ_type)\n",
    "#    seniority.append(employ_level)\n",
    "#    industry.append(job_industry)\n",
    "#    min_experience.append(minimum)\n",
    "#    requirement.append(job_require)\n",
    "#    roles_responsibilities.append(r_r)\n",
    "\n",
    "## some double checking\n",
    "#print(len(salary),\n",
    "#      len(job_title),\n",
    "#      len(company),\n",
    "#      len(month_annual),\n",
    "#      len(employment_type),\n",
    "#      len(seniority),\n",
    "#      len(industry),\n",
    "#      len(min_experience),\n",
    "#      len(requirement),\n",
    "#      len(roles_responsibilities))"
   ]
  },
  {
   "cell_type": "code",
   "execution_count": 619,
   "metadata": {},
   "outputs": [],
   "source": [
    "#from textblob import TextBlob"
   ]
  },
  {
   "cell_type": "markdown",
   "metadata": {},
   "source": [
    "Now I have to clean up the raw dataframe(df) and prepare the df for further examination. <br>\n",
    "1. remove the square brackets from the entire df\n",
    "2. lowercase everything\n",
    "3. try to make the job titles universal\n",
    "4. spilt the salary range into lower and upper (2 columns)\n",
    "5. if possible, annual salary will be divided by 12 extrapolate a monthly salary\n",
    "6. if possible only use full time employment type\n",
    "7. seniority will be added into the text (bag of words?) that represents the job"
   ]
  },
  {
   "cell_type": "code",
   "execution_count": 23,
   "metadata": {},
   "outputs": [],
   "source": [
    "## remove [ ] and lowercase everything.\n",
    "#def remove_sqbrac(dataset):\n",
    "#    for col in dataset.columns:\n",
    "#        dataset.loc[:, col] = [x[2:-2] for x in dataset[col]]\n",
    "#        dataset.loc[:, col] = dataset[col].str.lower()\n",
    "#    return dataset"
   ]
  },
  {
   "cell_type": "code",
   "execution_count": 29,
   "metadata": {},
   "outputs": [],
   "source": [
    "## company and link doesnt give much information for predicting salary, will drop it\n",
    "#df = remove_sqbrac(df)\n",
    "#df = df[df['employment_type'].isin (['full time', 'permanent', 'permanent, full time'])]\n",
    "#df = df.drop(list(df[df['job_requirements'].isnull()].index), axis = 0)\n",
    "#df = df.drop(list(df[df['role_responsibilities'].isnull()].index), axis = 0)\n",
    "#df = df.drop(list(df[df['salary'].isnull()].index), axis = 0)\n",
    "#df = df.drop(['link', 'company'], axis = 1)\n",
    "#df.to_csv('job_df.csv', index = False)"
   ]
  },
  {
   "cell_type": "code",
   "execution_count": 15,
   "metadata": {},
   "outputs": [
    {
     "name": "stdout",
     "output_type": "stream",
     "text": [
      "<class 'pandas.core.frame.DataFrame'>\n",
      "RangeIndex: 2951 entries, 0 to 2950\n",
      "Data columns (total 9 columns):\n",
      "job_title                2951 non-null object\n",
      "salary                   2951 non-null object\n",
      "month_annual             2951 non-null object\n",
      "employment_type          2951 non-null object\n",
      "seniority                2951 non-null object\n",
      "industry                 2951 non-null object\n",
      "min_experience           222 non-null object\n",
      "job_requirements         2951 non-null object\n",
      "role_responsibilities    2951 non-null object\n",
      "dtypes: object(9)\n",
      "memory usage: 207.6+ KB\n"
     ]
    }
   ],
   "source": [
    "csv = 'C:/Users/Wayne/materials/projects/project-4/job_df.csv'\n",
    "df = pd.read_csv(csv)\n",
    "df.info()"
   ]
  },
  {
   "cell_type": "markdown",
   "metadata": {},
   "source": [
    "For question 1, I will not touch the job desciption and job requirements(roles and responsibilities) as they are skills which is \"standardized\" across all seniority, job experience and job title(to an extend). Therefore, for interpretabiity, my model will only use min experience, seniority, company industry and mayb job title to predict salary range of 5 bins namely lower, low, medium, high & higher. (classification model) <br>\n",
    "<br>\n",
    "I accidentally saved the semi-cleaned dataset without the company column! <br>\n",
    "<br>\n",
    "Clean up the job title, seniority, industry and min experience;\n",
    "1. salary will be classfied\n",
    "2. seniority, industry and min_experience will be dummified\n",
    "3. if i still had the company columns, some companies will be binarized as high paying companies (1 or companies like google and banks, 0 for normal companies)\n",
    "4. employment_type will be dropped since its all full time, permanent or full time permanent."
   ]
  },
  {
   "cell_type": "code",
   "execution_count": 16,
   "metadata": {},
   "outputs": [
    {
     "name": "stdout",
     "output_type": "stream",
     "text": [
      "<class 'pandas.core.frame.DataFrame'>\n",
      "RangeIndex: 2951 entries, 0 to 2950\n",
      "Data columns (total 8 columns):\n",
      "job_title                2951 non-null object\n",
      "salary                   2951 non-null object\n",
      "month_annual             2951 non-null object\n",
      "seniority                2951 non-null object\n",
      "industry                 2951 non-null object\n",
      "min_experience           222 non-null object\n",
      "job_requirements         2951 non-null object\n",
      "role_responsibilities    2951 non-null object\n",
      "dtypes: object(8)\n",
      "memory usage: 184.5+ KB\n"
     ]
    }
   ],
   "source": [
    "df = df.drop('employment_type', axis = 1)\n",
    "df.info()"
   ]
  },
  {
   "cell_type": "code",
   "execution_count": 17,
   "metadata": {},
   "outputs": [
    {
     "name": "stdout",
     "output_type": "stream",
     "text": [
      "<class 'pandas.core.frame.DataFrame'>\n",
      "Int64Index: 947 entries, 0 to 2943\n",
      "Data columns (total 8 columns):\n",
      "job_title                947 non-null object\n",
      "salary                   947 non-null object\n",
      "month_annual             947 non-null object\n",
      "seniority                947 non-null object\n",
      "industry                 947 non-null object\n",
      "min_experience           68 non-null object\n",
      "job_requirements         947 non-null object\n",
      "role_responsibilities    947 non-null object\n",
      "dtypes: object(8)\n",
      "memory usage: 66.6+ KB\n"
     ]
    },
    {
     "data": {
      "text/plain": [
       "947"
      ]
     },
     "execution_count": 17,
     "metadata": {},
     "output_type": "execute_result"
    }
   ],
   "source": [
    "# assumption here is if job titles have includes any words in this list, it has something to do with data\n",
    "searchfor = ['analyst', 'scientist', 'business', 'intelligence', 'solutions', \n",
    "             'software', 'data', 'architect', 'application', 'machine', \n",
    "             'learning', 'analytics', 'hadoop', 'artificial', 'developer',\n",
    "             'big data', 'nlp', 'api', 'fraud', 'java', \n",
    "             'entry']\n",
    "data_jobs = df[df['job_title'].str.contains('|'.join(searchfor))]\n",
    "data_jobs.info()\n",
    "len(data_jobs)"
   ]
  },
  {
   "cell_type": "code",
   "execution_count": 18,
   "metadata": {},
   "outputs": [
    {
     "name": "stderr",
     "output_type": "stream",
     "text": [
      "C:\\ProgramData\\Anaconda3\\lib\\site-packages\\pandas\\core\\indexing.py:630: SettingWithCopyWarning: \n",
      "A value is trying to be set on a copy of a slice from a DataFrame.\n",
      "Try using .loc[row_indexer,col_indexer] = value instead\n",
      "\n",
      "See the caveats in the documentation: http://pandas.pydata.org/pandas-docs/stable/indexing.html#indexing-view-versus-copy\n",
      "  self.obj[item_labels[indexer[info_axis]]] = value\n",
      "C:\\ProgramData\\Anaconda3\\lib\\site-packages\\ipykernel_launcher.py:5: SettingWithCopyWarning: \n",
      "A value is trying to be set on a copy of a slice from a DataFrame.\n",
      "Try using .loc[row_indexer,col_indexer] = value instead\n",
      "\n",
      "See the caveats in the documentation: http://pandas.pydata.org/pandas-docs/stable/indexing.html#indexing-view-versus-copy\n",
      "  \"\"\"\n",
      "C:\\ProgramData\\Anaconda3\\lib\\site-packages\\ipykernel_launcher.py:6: SettingWithCopyWarning: \n",
      "A value is trying to be set on a copy of a slice from a DataFrame.\n",
      "Try using .loc[row_indexer,col_indexer] = value instead\n",
      "\n",
      "See the caveats in the documentation: http://pandas.pydata.org/pandas-docs/stable/indexing.html#indexing-view-versus-copy\n",
      "  \n",
      "C:\\ProgramData\\Anaconda3\\lib\\site-packages\\ipykernel_launcher.py:7: SettingWithCopyWarning: \n",
      "A value is trying to be set on a copy of a slice from a DataFrame.\n",
      "Try using .loc[row_indexer,col_indexer] = value instead\n",
      "\n",
      "See the caveats in the documentation: http://pandas.pydata.org/pandas-docs/stable/indexing.html#indexing-view-versus-copy\n",
      "  import sys\n",
      "C:\\ProgramData\\Anaconda3\\lib\\site-packages\\ipykernel_launcher.py:8: SettingWithCopyWarning: \n",
      "A value is trying to be set on a copy of a slice from a DataFrame.\n",
      "Try using .loc[row_indexer,col_indexer] = value instead\n",
      "\n",
      "See the caveats in the documentation: http://pandas.pydata.org/pandas-docs/stable/indexing.html#indexing-view-versus-copy\n",
      "  \n"
     ]
    }
   ],
   "source": [
    "data_jobs.loc[:, 'salary'] = [x.replace('$', '') for x in data_jobs['salary']]\n",
    "data_jobs.loc[:, 'salary'] = [x.replace(',', '') for x in data_jobs['salary']]\n",
    "data_jobs.loc[:, 'salary'] = [x.replace(\"' '\", ' ') for x in data_jobs['salary']]\n",
    "data_jobs.loc[:, 'salary'] = [x.split(' ') for x in data_jobs['salary']]\n",
    "data_jobs['salary_lower'] = [x[0] for x in data_jobs['salary']]\n",
    "data_jobs['salary_upper'] = [x[1] for x in data_jobs['salary']]\n",
    "data_jobs['salary_upper'] = data_jobs['salary_upper'].astype(int)\n",
    "data_jobs['salary_lower'] = data_jobs['salary_lower'].astype(int)\n",
    "data_jobs = data_jobs.drop('salary', axis = 1)\n",
    "data_jobs = data_jobs.reset_index()"
   ]
  },
  {
   "cell_type": "code",
   "execution_count": 19,
   "metadata": {},
   "outputs": [],
   "source": [
    "yr = list(data_jobs[data_jobs['month_annual'] == 'annually'].index)\n",
    "for index in yr:\n",
    "    data_jobs.salary_lower.iloc[index] = (data_jobs.salary_lower.iloc[index] / 12)\n",
    "    data_jobs.salary_upper.iloc[index] = (data_jobs.salary_upper.iloc[index] / 12)"
   ]
  },
  {
   "cell_type": "code",
   "execution_count": 20,
   "metadata": {},
   "outputs": [],
   "source": [
    "#since all salaries are now monthly, we can drop the monthly row\n",
    "data_jobs = data_jobs.drop(['month_annual', 'index'], axis = 1)"
   ]
  },
  {
   "cell_type": "code",
   "execution_count": 21,
   "metadata": {},
   "outputs": [],
   "source": [
    "# index 297 and 151 have a monthly salary of 150k and 100k this are super outliers, will drop them\n",
    "data_jobs['salary_lower'].sort_values(ascending = False)\n",
    "data_jobs = data_jobs.drop([151, 297], axis = 0)"
   ]
  },
  {
   "cell_type": "markdown",
   "metadata": {},
   "source": [
    "i will classify the salaries using the lower salary range for more realistic purposes <br>\n",
    "i do not think the mean of the range is a good representation of salary <br>\n",
    "low = 0 to 4000 <br>\n",
    "medium = 4001 to 6000 <br>\n",
    "high = 6001 and above <br>"
   ]
  },
  {
   "cell_type": "code",
   "execution_count": 22,
   "metadata": {},
   "outputs": [
    {
     "data": {
      "text/plain": [
       "count      945.000000\n",
       "mean      5680.693122\n",
       "std       2625.395156\n",
       "min       1200.000000\n",
       "25%       4000.000000\n",
       "50%       5000.000000\n",
       "75%       7000.000000\n",
       "max      21000.000000\n",
       "Name: salary_lower, dtype: float64"
      ]
     },
     "execution_count": 22,
     "metadata": {},
     "output_type": "execute_result"
    }
   ],
   "source": [
    "data_jobs.loc[:, 'salary_lower'] = round(data_jobs['salary_lower'])\n",
    "data_jobs['salary_lower'].describe()"
   ]
  },
  {
   "cell_type": "code",
   "execution_count": 24,
   "metadata": {},
   "outputs": [
    {
     "data": {
      "text/plain": [
       "low       319\n",
       "high      317\n",
       "medium    309\n",
       "Name: salary_classification, dtype: int64"
      ]
     },
     "execution_count": 24,
     "metadata": {},
     "output_type": "execute_result"
    }
   ],
   "source": [
    "data_jobs['salary_lower'] = data_jobs['salary_lower'].astype(int)\n",
    "to_class = list(data_jobs['salary_lower'])\n",
    "classified = []\n",
    "for salary in to_class:\n",
    "    if salary <= 4000:\n",
    "        classified.append('low')\n",
    "    elif salary > 4000 and salary <= 6000:\n",
    "        classified.append('medium')\n",
    "    else:\n",
    "        classified.append('high')\n",
    "data_jobs['salary_classification'] = classified\n",
    "\n",
    "#baseline for classification modelling\n",
    "data_jobs['salary_classification'].value_counts()"
   ]
  },
  {
   "cell_type": "code",
   "execution_count": 26,
   "metadata": {},
   "outputs": [],
   "source": [
    "# industry, job_title, min_experience(NaN will be replaced by 0) and seniority will be dummified accordingly.\n",
    "data_jobs.loc[:, 'min_experience'] = data_jobs['min_experience'].replace(np.nan, '0')\n",
    "data_jobs['min_experience'] = [x[0] for x in data_jobs['min_experience']]"
   ]
  },
  {
   "cell_type": "code",
   "execution_count": 27,
   "metadata": {},
   "outputs": [
    {
     "data": {
      "text/plain": [
       "0    877\n",
       "2     15\n",
       "3     11\n",
       "1     10\n",
       "8     10\n",
       "5      7\n",
       "7      7\n",
       "4      5\n",
       "6      3\n",
       "Name: min_experience, dtype: int64"
      ]
     },
     "execution_count": 27,
     "metadata": {},
     "output_type": "execute_result"
    }
   ],
   "source": [
    "data_jobs['min_experience'].value_counts()\n",
    "#data_jobs['seniority'].value_counts().sample(10)"
   ]
  },
  {
   "cell_type": "code",
   "execution_count": 28,
   "metadata": {},
   "outputs": [],
   "source": [
    "# dummifying the seniority, industry and min_experience columns\n",
    "data_jobs['seniority'] = data_jobs['seniority'].apply(lambda x : str(x).replace(\" \", \"\"))\n",
    "data_jobs = data_jobs.merge(data_jobs['seniority'].str.get_dummies(sep = ','), \n",
    "                            how = 'left',\n",
    "                            left_on = None, \n",
    "                            right_on = None, \n",
    "                            left_index = True, \n",
    "                            right_index = True)\n",
    "\n",
    "data_jobs['industry'] = data_jobs['industry'].apply(lambda x : str(x).replace(\" \", \"\"))\n",
    "data_jobs = data_jobs.merge(data_jobs['industry'].str.get_dummies(sep = ','), \n",
    "                            how = 'left',\n",
    "                            left_on = None, \n",
    "                            right_on = None, \n",
    "                            left_index = True, \n",
    "                            right_index = True)\n",
    "\n",
    "data_jobs = data_jobs.merge(pd.get_dummies(data_jobs['min_experience']), \n",
    "                            how = 'left',\n",
    "                            left_on = None, \n",
    "                            right_on = None, \n",
    "                            left_index = True, \n",
    "                            right_index = True)"
   ]
  },
  {
   "cell_type": "code",
   "execution_count": 29,
   "metadata": {},
   "outputs": [
    {
     "data": {
      "text/plain": [
       "Index(['job_title', 'seniority', 'industry', 'min_experience',\n",
       "       'job_requirements', 'role_responsibilities', 'salary_lower',\n",
       "       'salary_upper', 'salary_classification', 'executive',\n",
       "       'fresh/entrylevel', 'juniorexecutive', 'manager', 'middlemanagement',\n",
       "       'non-executive', 'professional', 'seniorexecutive', 'seniormanagement',\n",
       "       'accounting/auditing/taxation', 'admin/secretarial',\n",
       "       'advertising/media', 'architecture/interiordesign', 'bankingandfinance',\n",
       "       'buildingandconstruction', 'consulting', 'customerservice', 'design',\n",
       "       'educationandtraining', 'engineering', 'environment/health',\n",
       "       'generalmanagement', 'generalwork', 'healthcare/pharmaceutical',\n",
       "       'humanresources', 'informationtechnology', 'insurance', 'legal',\n",
       "       'logistics/supplychain', 'manufacturing', 'marketing/publicrelations',\n",
       "       'others', 'professionalservices', 'public/civilservice',\n",
       "       'purchasing/merchandising', 'realestate/propertymanagement',\n",
       "       'repairandmaintenance', 'riskmanagement', 'sales/retail',\n",
       "       'sciences/laboratory/r&d', 'securityandinvestigation', 'socialservices',\n",
       "       'telecommunications', '0', '1', '2', '3', '4', '5', '6', '7', '8'],\n",
       "      dtype='object')"
      ]
     },
     "execution_count": 29,
     "metadata": {},
     "output_type": "execute_result"
    }
   ],
   "source": [
    "data_jobs.columns"
   ]
  },
  {
   "cell_type": "code",
   "execution_count": 30,
   "metadata": {},
   "outputs": [],
   "source": [
    "data_q1 = data_jobs.drop(['seniority', 'industry', 'min_experience',\n",
    "                         'job_requirements', 'role_responsibilities', \n",
    "                         'job_title', 'salary_upper'], axis = 1)"
   ]
  },
  {
   "cell_type": "code",
   "execution_count": 31,
   "metadata": {},
   "outputs": [
    {
     "data": {
      "text/plain": [
       "Index(['salary_lower', 'salary_classification', 'executive',\n",
       "       'fresh/entrylevel', 'juniorexecutive', 'manager', 'middlemanagement',\n",
       "       'non-executive', 'professional', 'seniorexecutive', 'seniormanagement',\n",
       "       'accounting/auditing/taxation', 'admin/secretarial',\n",
       "       'advertising/media', 'architecture/interiordesign', 'bankingandfinance',\n",
       "       'buildingandconstruction', 'consulting', 'customerservice', 'design',\n",
       "       'educationandtraining', 'engineering', 'environment/health',\n",
       "       'generalmanagement', 'generalwork', 'healthcare/pharmaceutical',\n",
       "       'humanresources', 'informationtechnology', 'insurance', 'legal',\n",
       "       'logistics/supplychain', 'manufacturing', 'marketing/publicrelations',\n",
       "       'others', 'professionalservices', 'public/civilservice',\n",
       "       'purchasing/merchandising', 'realestate/propertymanagement',\n",
       "       'repairandmaintenance', 'riskmanagement', 'sales/retail',\n",
       "       'sciences/laboratory/r&d', 'securityandinvestigation', 'socialservices',\n",
       "       'telecommunications', '0', '1', '2', '3', '4', '5', '6', '7', '8'],\n",
       "      dtype='object')"
      ]
     },
     "execution_count": 31,
     "metadata": {},
     "output_type": "execute_result"
    }
   ],
   "source": [
    "data_q1.columns"
   ]
  },
  {
   "cell_type": "code",
   "execution_count": 35,
   "metadata": {},
   "outputs": [],
   "source": [
    "# lets do some modelling trying out both regression and classification models.\n",
    "# regression will be done by using the lower salary range as target (every company wants to pay less for more)\n",
    "import scipy.stats as stats\n",
    "import seaborn as sns\n",
    "import matplotlib.pyplot as plt\n",
    "from sklearn.preprocessing import StandardScaler, LabelEncoder\n",
    "from sklearn.model_selection import train_test_split, cross_val_score, GridSearchCV\n",
    "from sklearn.linear_model import LinearRegression, Lasso, Ridge, LogisticRegression, LogisticRegressionCV\n",
    "from sklearn.neighbors import KNeighborsClassifier\n",
    "from sklearn.ensemble import BaggingClassifier, RandomForestClassifier\n",
    "from sklearn.tree import DecisionTreeClassifier\n",
    "from sklearn import svm, metrics\n",
    "\n",
    "sns.set_style('whitegrid')\n",
    "\n",
    "%config InlineBackend.figure_format = 'retina'\n",
    "%matplotlib inline"
   ]
  },
  {
   "cell_type": "code",
   "execution_count": 736,
   "metadata": {},
   "outputs": [],
   "source": [
    "# Regression - using salary_lower column as target variables\n",
    "X_reg = data_q1.drop(['salary_lower', 'salary_classification'], axis = 1)\n",
    "y_reg = data_q1['salary_lower'].values"
   ]
  },
  {
   "cell_type": "code",
   "execution_count": 740,
   "metadata": {},
   "outputs": [
    {
     "name": "stdout",
     "output_type": "stream",
     "text": [
      "661 661 284 284\n"
     ]
    }
   ],
   "source": [
    "X_train, X_test, y_train, y_test = train_test_split(X_reg.values, y_reg, random_state = 42, test_size = 0.3)\n",
    "print(len(X_train), len(y_train), len(X_test), len(y_test))"
   ]
  },
  {
   "cell_type": "code",
   "execution_count": 741,
   "metadata": {},
   "outputs": [
    {
     "name": "stdout",
     "output_type": "stream",
     "text": [
      "[ 2.24492627e-01 -9.59543425e+22  1.24597406e-01  3.60068084e-01\n",
      "  3.01155391e-01  3.02670854e-01 -5.37890755e+19  2.96113699e-01\n",
      "  2.27683951e-01 -4.48211487e+10] -9.600813160110003e+21 2.87845142557945e+22 0.24393526422569223\n"
     ]
    }
   ],
   "source": [
    "# well, linear regression score sucked as usual.\n",
    "# onwards to Ridge and Lasso.\n",
    "\n",
    "linreg = LinearRegression()\n",
    "train_score = cross_val_score(linreg, X_train, y_train, cv = 10)\n",
    "model = linreg.fit(X_train, y_train)\n",
    "test_score = model.score(X_test, y_test)\n",
    "print(train_score, np.mean(train_score), np.std(train_score), test_score)"
   ]
  },
  {
   "cell_type": "code",
   "execution_count": 645,
   "metadata": {},
   "outputs": [],
   "source": [
    "# ridge function for finding optimal alpha value manually\n",
    "def ridge_alpha(predictor_train, target_train, alpha):\n",
    "    ridge_value = []\n",
    "    for number in alpha:\n",
    "        ridgereg = Ridge(alpha=number, normalize=True)\n",
    "        score_train = cross_val_score(ridgereg, predictor_train, target_train, cv = 10)\n",
    "        ridge_value.append([number, np.mean(score_train), np.std(score_train)])\n",
    "    ridge_value.sort(key=lambda x: x[1])\n",
    "    return ridge_value[-1]\n",
    "\n",
    "# lasso version\n",
    "def lasso_alpha(predictor_train, target_train, alpha):\n",
    "    lasso_value = []\n",
    "    for number in alpha:\n",
    "        lassoreg = Lasso(alpha=number, max_iter = 10000, normalize=True)\n",
    "        score_train = cross_val_score(lassoreg, predictor_train, target_train, cv = 10)\n",
    "        lasso_value.append([number, np.mean(score_train), np.std(score_train)])\n",
    "    lasso_value.sort(key=lambda x: x[1])\n",
    "    return lasso_value[-1]"
   ]
  },
  {
   "cell_type": "code",
   "execution_count": 648,
   "metadata": {},
   "outputs": [
    {
     "name": "stdout",
     "output_type": "stream",
     "text": [
      "[0.3280000000000001, 0.2741220054361452, 0.05942135879479084] [2.927999999999898, 0.2829846904163002, 0.05842941284436421]\n"
     ]
    }
   ],
   "source": [
    "# getting the alphas for Ridge and Lasso\n",
    "\n",
    "# ridge's alpha\n",
    "alpha_r = np.arange(0.2, 0.4, 0.001)\n",
    "best_alpha_r = ridge_alpha(X_train, y_train, alpha_r)\n",
    "\n",
    "# lasso's alpha\n",
    "alpha_l = np.arange(2, 4, 0.001)\n",
    "best_alpha_l = lasso_alpha(X_train, y_train, alpha_l)\n",
    "\n",
    "print(best_alpha_r, best_alpha_l)"
   ]
  },
  {
   "cell_type": "code",
   "execution_count": 649,
   "metadata": {},
   "outputs": [
    {
     "name": "stdout",
     "output_type": "stream",
     "text": [
      "0.2680086628056335 0.26779676738302993\n"
     ]
    }
   ],
   "source": [
    "# No need for cross val score since its done in the function already\n",
    "\n",
    "# Ridge model \n",
    "ridge = Ridge(alpha = 0.328, normalize = True)\n",
    "ridge_model = ridge.fit(X_train, y_train)\n",
    "r_test_score = ridge_model.score(X_test, y_test)\n",
    "r_test_score\n",
    "\n",
    "# Lasso model\n",
    "lasso = Lasso(alpha = 2.928, normalize = True)\n",
    "lasso_model = lasso.fit(X_train, y_train)\n",
    "l_test_score = lasso_model.score(X_test, y_test)\n",
    "print(r_test_score, l_test_score)\n",
    "\n",
    "# well both models are also lousy with a score of 0.268. \n",
    "# further optimation of anything will not give much significant improvement to model score.\n",
    "# moving on to classification (multi-class) models"
   ]
  },
  {
   "cell_type": "code",
   "execution_count": 36,
   "metadata": {},
   "outputs": [
    {
     "data": {
      "text/plain": [
       "52"
      ]
     },
     "execution_count": 36,
     "metadata": {},
     "output_type": "execute_result"
    }
   ],
   "source": [
    "X_class = data_q1.drop(['salary_lower', 'salary_classification'], axis = 1)\n",
    "y_class = data_q1['salary_classification'].values\n",
    "len(X_class.columns)"
   ]
  },
  {
   "cell_type": "code",
   "execution_count": 810,
   "metadata": {},
   "outputs": [
    {
     "name": "stdout",
     "output_type": "stream",
     "text": [
      "661 661 284 284\n"
     ]
    }
   ],
   "source": [
    "X_train, X_test, y_train, y_test = train_test_split(X_class.values, y_class, random_state = 42, test_size = 0.3)\n",
    "print(len(X_train), len(y_train), len(X_test), len(y_test))"
   ]
  },
  {
   "cell_type": "code",
   "execution_count": 828,
   "metadata": {},
   "outputs": [
    {
     "data": {
      "text/plain": [
       "high      0.345070\n",
       "low       0.341549\n",
       "medium    0.313380\n",
       "dtype: float64"
      ]
     },
     "execution_count": 828,
     "metadata": {},
     "output_type": "execute_result"
    }
   ],
   "source": [
    "baseline = (pd.Series(y_test)).value_counts() / len(pd.Series(y_test))\n",
    "baseline"
   ]
  },
  {
   "cell_type": "code",
   "execution_count": 826,
   "metadata": {},
   "outputs": [
    {
     "name": "stdout",
     "output_type": "stream",
     "text": [
      "[0.40298507 0.3880597  0.59090909 0.43939394 0.60606061 0.48484848\n",
      " 0.5        0.57575758 0.51515152 0.49230769] 0.4995473680548308 0.07168291684455501 0.4964788732394366\n",
      "              precision    recall  f1-score   support\n",
      "\n",
      "        high       0.53      0.74      0.62        98\n",
      "         low       0.57      0.61      0.59        97\n",
      "      medium       0.22      0.10      0.14        89\n",
      "\n",
      "   micro avg       0.50      0.50      0.50       284\n",
      "   macro avg       0.44      0.48      0.45       284\n",
      "weighted avg       0.44      0.50      0.46       284\n",
      "\n"
     ]
    }
   ],
   "source": [
    "# Lets start with KNN, with n = 3 neighbours, smallest odd number besides 1\n",
    "# But it seems like KNN lso sucks\n",
    "knn = KNeighborsClassifier(n_neighbors = 5)\n",
    "train_score = cross_val_score(knn, X_train, y_train, cv = 10)\n",
    "model = knn.fit(X_train, y_train)\n",
    "test_score = model.score(X_test, y_test)\n",
    "y_pred_knn = model.predict(X_test)\n",
    "print(train_score, np.mean(train_score), np.std(train_score), test_score)\n",
    "print(metrics.classification_report(y_test, y_pred_knn))"
   ]
  },
  {
   "cell_type": "code",
   "execution_count": null,
   "metadata": {},
   "outputs": [],
   "source": []
  },
  {
   "cell_type": "code",
   "execution_count": 825,
   "metadata": {},
   "outputs": [
    {
     "name": "stdout",
     "output_type": "stream",
     "text": [
      "[0.58208955 0.49253731 0.57575758 0.56060606 0.65151515 0.57575758\n",
      " 0.54545455 0.56060606 0.56060606 0.58461538] 0.5689545280590056 0.037319621313458756 0.545774647887324\n",
      "              precision    recall  f1-score   support\n",
      "\n",
      "        high       0.68      0.57      0.62        98\n",
      "         low       0.59      0.62      0.60        97\n",
      "      medium       0.39      0.44      0.41        89\n",
      "\n",
      "   micro avg       0.55      0.55      0.55       284\n",
      "   macro avg       0.55      0.54      0.55       284\n",
      "weighted avg       0.56      0.55      0.55       284\n",
      "\n"
     ]
    }
   ],
   "source": [
    "# Logistic Regression\n",
    "logreg = LogisticRegression(solver = 'lbfgs', max_iter = 10000, multi_class = 'auto')\n",
    "train_score = cross_val_score(logreg, X_train, y_train, cv = 10)\n",
    "model = logreg.fit(X_train, y_train)\n",
    "test_score = model.score(X_test, y_test)\n",
    "y_pred_log = model.predict(X_test)\n",
    "print(train_score, np.mean(train_score), np.std(train_score), test_score)\n",
    "print(metrics.classification_report(y_test, y_pred_log))"
   ]
  },
  {
   "cell_type": "code",
   "execution_count": 824,
   "metadata": {},
   "outputs": [
    {
     "name": "stdout",
     "output_type": "stream",
     "text": [
      "[0.58208955 0.44776119 0.56060606 0.48484848 0.57575758 0.51515152\n",
      " 0.46969697 0.56060606 0.54545455 0.53846154] 0.5280433496851407 0.044284882726486736 0.5105633802816901\n",
      "              precision    recall  f1-score   support\n",
      "\n",
      "        high       0.59      0.61      0.60        98\n",
      "         low       0.59      0.61      0.60        97\n",
      "      medium       0.32      0.29      0.30        89\n",
      "\n",
      "   micro avg       0.51      0.51      0.51       284\n",
      "   macro avg       0.50      0.50      0.50       284\n",
      "weighted avg       0.50      0.51      0.51       284\n",
      "\n"
     ]
    }
   ],
   "source": [
    "# Decision Tree\n",
    "dt = DecisionTreeClassifier()\n",
    "train_score = cross_val_score(dt, X_train, y_train, cv = 10)\n",
    "model = dt.fit(X_train, y_train)\n",
    "test_score = model.score(X_test, y_test)\n",
    "y_pred_dt = model.predict(X_test)\n",
    "print(train_score, np.mean(train_score), np.std(train_score), test_score)\n",
    "print(metrics.classification_report(y_test, y_pred_dt))"
   ]
  },
  {
   "cell_type": "code",
   "execution_count": 823,
   "metadata": {},
   "outputs": [
    {
     "name": "stdout",
     "output_type": "stream",
     "text": [
      "[0.6119403  0.43283582 0.56060606 0.5        0.60606061 0.53030303\n",
      " 0.45454545 0.59090909 0.56060606 0.52307692] 0.5370883345510211 0.05801952227137765 0.5140845070422535\n",
      "              precision    recall  f1-score   support\n",
      "\n",
      "        high       0.59      0.61      0.60        98\n",
      "         low       0.59      0.62      0.61        97\n",
      "      medium       0.32      0.29      0.30        89\n",
      "\n",
      "   micro avg       0.51      0.51      0.51       284\n",
      "   macro avg       0.50      0.51      0.50       284\n",
      "weighted avg       0.51      0.51      0.51       284\n",
      "\n"
     ]
    }
   ],
   "source": [
    "# random forest\n",
    "forest = RandomForestClassifier(n_estimators = 500, \n",
    "                                max_features = 'sqrt',\n",
    "                                max_depth = 38 )\n",
    "train_score = cross_val_score(forest, X_train, y_train, cv = 10)\n",
    "model = dt.fit(X_train, y_train)\n",
    "test_score = model.score(X_test, y_test)\n",
    "y_pred_rf = model.predict(X_test)\n",
    "print(train_score, np.mean(train_score), np.std(train_score), test_score)\n",
    "\n",
    "print(metrics.classification_report(y_test, y_pred_rf))"
   ]
  },
  {
   "cell_type": "markdown",
   "metadata": {},
   "source": [
    "# Writeup for Question 1, some reflections\n",
    "\n",
    "For this project, I did quite a sub-par job, I did not do EDA as well as I should have to be honest. Much visualisations were not done and I chose the features for my questions in a hap-hazard way of using a combination of domain knowledge and \"common-sense\". This is reflected explicitly in the accurracies and scores of my models.\n",
    "\n",
    "My highest accuracy gotten is 0.54 on a 3-class logsitic regresion model where the precision and recall for the medium salary class being extremely low. I deem this project to have a huge room for improvement; firstly, EDA can be done with the objective to determine features that should be used to fit the model, as good data usually triumphs over a good modelling. Another improvement is to look deeper into multi-class classification. Not only for logisitc regression but also for other classification techniques, how to tune the models to tweak the confusion matrix for improvement to precision and recall. Also, other evaluation matrices can be employed to determine model usefulness is a business setting.\n",
    "\n",
    "On the model and its features, variance within the features is an aspect I overlooked after some hindsight thinking. I should have visualized my thoughts on which features to use, to gather whatever it can tell me instead of just blindly choosing. Through this project, I realised that the dataset may not be cleaned and usable on the go (unlike Kaggle datasets), much thought and EDA with the objectives to select features and check correlations or to prove our own hypothesis should be done before the dataset is usable or \"prepped\" for modelling."
   ]
  },
  {
   "cell_type": "markdown",
   "metadata": {},
   "source": [
    "<img src=\"http://imgur.com/l5NasQj.png\" style=\"float: left; margin: 25px 15px 0px 0px; height: 25px\">\n",
    "\n",
    "### QUESTION 2: Factors that distinguish job category\n",
    "\n",
    "Using the job postings you scraped for part 1 (or potentially new job postings from a second round of scraping), identify features in the data related to job postings that can distinguish job titles from each other. There are a variety of interesting ways you can frame the target variable, for example:\n",
    "- What components of a job posting distinguish data scientists from other data jobs?\n",
    "- What features are important for distinguishing junior vs. senior positions?\n",
    "- Do the requirements for titles vary significantly with industry (e.g. healthcare vs. government)?\n",
    "\n",
    "You may end up making multiple classification models to tackle different questions. Be sure to clearly explain your hypotheses and framing, any feature engineering, and what your target variables are. The type of classification model you choose is up to you. Be sure to interpret your results and evaluate your models' performance."
   ]
  },
  {
   "cell_type": "code",
   "execution_count": 5,
   "metadata": {},
   "outputs": [],
   "source": [
    "from scipy.stats import chisquare\n",
    "from sklearn.preprocessing import StandardScaler\n",
    "from sklearn.linear_model import Lasso, Ridge, LogisticRegressionCV, LogisticRegression\n",
    "from sklearn.naive_bayes import MultinomialNB, BernoulliNB, GaussianNB\n",
    "from sklearn.svm import SVC\n",
    "from sklearn.ensemble import RandomForestClassifier\n",
    "from xgboost import XGBClassifier\n",
    "from sklearn.model_selection import cross_val_score, StratifiedKFold, train_test_split, GridSearchCV\n",
    "from sklearn.feature_extraction.text import CountVectorizer, TfidfVectorizer\n",
    "from sklearn.feature_selection import SelectKBest, f_classif, RFECV\n",
    "from imblearn.over_sampling import SMOTE\n",
    "from sklearn.metrics import roc_auc_score, roc_curve, auc, confusion_matrix, classification_report\n",
    "\n",
    "pd.options.display.max_columns = 400"
   ]
  },
  {
   "cell_type": "code",
   "execution_count": 6,
   "metadata": {},
   "outputs": [
    {
     "name": "stdout",
     "output_type": "stream",
     "text": [
      "<class 'pandas.core.frame.DataFrame'>\n",
      "RangeIndex: 2951 entries, 0 to 2950\n",
      "Data columns (total 9 columns):\n",
      "job_title                2951 non-null object\n",
      "salary                   2951 non-null object\n",
      "month_annual             2951 non-null object\n",
      "employment_type          2951 non-null object\n",
      "seniority                2951 non-null object\n",
      "industry                 2951 non-null object\n",
      "min_experience           222 non-null object\n",
      "job_requirements         2951 non-null object\n",
      "role_responsibilities    2951 non-null object\n",
      "dtypes: object(9)\n",
      "memory usage: 207.6+ KB\n"
     ]
    }
   ],
   "source": [
    "# for question 2, I will like to answer to question: what components of a job posting differentiates data scientist from others\n",
    "csv = 'C:/Users/Wayne/materials/projects/project-4/job_df.csv'\n",
    "df = pd.read_csv(csv)\n",
    "df.info()"
   ]
  },
  {
   "cell_type": "code",
   "execution_count": 7,
   "metadata": {},
   "outputs": [
    {
     "name": "stdout",
     "output_type": "stream",
     "text": [
      "<class 'pandas.core.frame.DataFrame'>\n",
      "Int64Index: 947 entries, 0 to 2943\n",
      "Data columns (total 9 columns):\n",
      "job_title                947 non-null object\n",
      "salary                   947 non-null object\n",
      "month_annual             947 non-null object\n",
      "employment_type          947 non-null object\n",
      "seniority                947 non-null object\n",
      "industry                 947 non-null object\n",
      "min_experience           68 non-null object\n",
      "job_requirements         947 non-null object\n",
      "role_responsibilities    947 non-null object\n",
      "dtypes: object(9)\n",
      "memory usage: 74.0+ KB\n"
     ]
    },
    {
     "data": {
      "text/plain": [
       "947"
      ]
     },
     "execution_count": 7,
     "metadata": {},
     "output_type": "execute_result"
    }
   ],
   "source": [
    "# same assumption as q1: if job titles have includes any words in this list, it has something to do with data\n",
    "searchfor = ['analyst', 'scientist', 'business', 'intelligence', 'solutions', \n",
    "             'software', 'data', 'architect', 'application', 'machine', \n",
    "             'learning', 'analytics', 'hadoop', 'artificial', 'developer',\n",
    "             'big data', 'nlp', 'api', 'fraud', 'java', \n",
    "             'entry']\n",
    "data_jobs = df[df['job_title'].str.contains('|'.join(searchfor))]\n",
    "data_jobs.info()\n",
    "len(data_jobs)"
   ]
  },
  {
   "cell_type": "code",
   "execution_count": 11,
   "metadata": {},
   "outputs": [],
   "source": [
    "# lets pick out the data scientists\n",
    "ds_ornot = data_jobs.reset_index()\n",
    "ds_ornot.drop('index', axis = 1)\n",
    "scientist = list(ds_ornot[ds_ornot['job_title'].str.contains('data scientist')].index)\n",
    "ds_ornot['scientist'] = 0\n",
    "for index in scientist:\n",
    "    ds_ornot['scientist'].iloc[index] = 1"
   ]
  },
  {
   "cell_type": "code",
   "execution_count": 12,
   "metadata": {},
   "outputs": [
    {
     "name": "stdout",
     "output_type": "stream",
     "text": [
      "<class 'pandas.core.frame.DataFrame'>\n",
      "RangeIndex: 947 entries, 0 to 946\n",
      "Data columns (total 11 columns):\n",
      "index                    947 non-null int64\n",
      "job_title                947 non-null object\n",
      "salary                   947 non-null object\n",
      "month_annual             947 non-null object\n",
      "employment_type          947 non-null object\n",
      "seniority                947 non-null object\n",
      "industry                 947 non-null object\n",
      "min_experience           68 non-null object\n",
      "job_requirements         947 non-null object\n",
      "role_responsibilities    947 non-null object\n",
      "scientist                947 non-null int64\n",
      "dtypes: int64(2), object(9)\n",
      "memory usage: 81.5+ KB\n"
     ]
    }
   ],
   "source": [
    "# this is our target variable, data scientist 1 not data scientist = 0\n",
    "ds_ornot['scientist'].value_counts()\n",
    "ds_ornot.info()"
   ]
  },
  {
   "cell_type": "markdown",
   "metadata": {},
   "source": [
    "Since we are trying to identify what features in the data related to job postings that can distinguish data scientists from other data jobs, we first take a look if the features we use in q1 can give us any insights and if they are suitable to be predictor variables for this question."
   ]
  },
  {
   "cell_type": "code",
   "execution_count": 32,
   "metadata": {},
   "outputs": [
    {
     "data": {
      "text/html": [
       "<div>\n",
       "<style scoped>\n",
       "    .dataframe tbody tr th:only-of-type {\n",
       "        vertical-align: middle;\n",
       "    }\n",
       "\n",
       "    .dataframe tbody tr th {\n",
       "        vertical-align: top;\n",
       "    }\n",
       "\n",
       "    .dataframe thead th {\n",
       "        text-align: right;\n",
       "    }\n",
       "</style>\n",
       "<table border=\"1\" class=\"dataframe\">\n",
       "  <thead>\n",
       "    <tr style=\"text-align: right;\">\n",
       "      <th></th>\n",
       "      <th>scientist</th>\n",
       "      <th>salary_class</th>\n",
       "      <th>count</th>\n",
       "    </tr>\n",
       "  </thead>\n",
       "  <tbody>\n",
       "    <tr>\n",
       "      <th>0</th>\n",
       "      <td>0</td>\n",
       "      <td>high</td>\n",
       "      <td>292</td>\n",
       "    </tr>\n",
       "    <tr>\n",
       "      <th>1</th>\n",
       "      <td>0</td>\n",
       "      <td>low</td>\n",
       "      <td>302</td>\n",
       "    </tr>\n",
       "    <tr>\n",
       "      <th>2</th>\n",
       "      <td>0</td>\n",
       "      <td>medium</td>\n",
       "      <td>278</td>\n",
       "    </tr>\n",
       "    <tr>\n",
       "      <th>3</th>\n",
       "      <td>1</td>\n",
       "      <td>high</td>\n",
       "      <td>25</td>\n",
       "    </tr>\n",
       "    <tr>\n",
       "      <th>4</th>\n",
       "      <td>1</td>\n",
       "      <td>low</td>\n",
       "      <td>17</td>\n",
       "    </tr>\n",
       "    <tr>\n",
       "      <th>5</th>\n",
       "      <td>1</td>\n",
       "      <td>medium</td>\n",
       "      <td>31</td>\n",
       "    </tr>\n",
       "  </tbody>\n",
       "</table>\n",
       "</div>"
      ],
      "text/plain": [
       "   scientist salary_class  count\n",
       "0          0         high    292\n",
       "1          0          low    302\n",
       "2          0       medium    278\n",
       "3          1         high     25\n",
       "4          1          low     17\n",
       "5          1       medium     31"
      ]
     },
     "execution_count": 32,
     "metadata": {},
     "output_type": "execute_result"
    }
   ],
   "source": [
    "# lets take a look at the classified salary for the data related jobs\n",
    "# the counts of the DS vs non DS in each salary class is relatively the same\n",
    "ds_ornot['salary_class'] = data_q1['salary_classification']\n",
    "ds_salary = pd.DataFrame(ds_ornot.groupby(['scientist', 'salary_class']).size()).reset_index()\n",
    "ds_salary.rename(columns = {0: 'count'}, inplace = True)\n",
    "ds_salary"
   ]
  },
  {
   "cell_type": "code",
   "execution_count": 37,
   "metadata": {},
   "outputs": [
    {
     "data": {
      "image/png": "[encoded data removed]",
      "text/plain": [
       "<Figure size 864x432 with 1 Axes>"
      ]
     },
     "metadata": {
      "image/png": {
       "height": 372,
       "width": 722
      },
      "needs_background": "light"
     },
     "output_type": "display_data"
    }
   ],
   "source": [
    "# from this plot, all 3 combinations of DS vs non-DS in each salary class is about the same with not much variance\n",
    "# maybe medium salary class have slightly more DS but the variance is still not significant after comparison with the other 2 class\n",
    "# salary will not be used as a feature\n",
    "fig = plt.figure(figsize= (12,6))\n",
    "sns.barplot(x = ds_salary['salary_class'], y = ds_salary['count'], hue = ds_salary['scientist'])\n",
    "plt.show()"
   ]
  },
  {
   "cell_type": "code",
   "execution_count": 38,
   "metadata": {},
   "outputs": [
    {
     "data": {
      "text/html": [
       "<div>\n",
       "<style scoped>\n",
       "    .dataframe tbody tr th:only-of-type {\n",
       "        vertical-align: middle;\n",
       "    }\n",
       "\n",
       "    .dataframe tbody tr th {\n",
       "        vertical-align: top;\n",
       "    }\n",
       "\n",
       "    .dataframe thead th {\n",
       "        text-align: right;\n",
       "    }\n",
       "</style>\n",
       "<table border=\"1\" class=\"dataframe\">\n",
       "  <thead>\n",
       "    <tr style=\"text-align: right;\">\n",
       "      <th></th>\n",
       "      <th>scientist</th>\n",
       "      <th>employment_type</th>\n",
       "      <th>count</th>\n",
       "    </tr>\n",
       "  </thead>\n",
       "  <tbody>\n",
       "    <tr>\n",
       "      <th>0</th>\n",
       "      <td>0</td>\n",
       "      <td>full time</td>\n",
       "      <td>404</td>\n",
       "    </tr>\n",
       "    <tr>\n",
       "      <th>1</th>\n",
       "      <td>0</td>\n",
       "      <td>permanent</td>\n",
       "      <td>245</td>\n",
       "    </tr>\n",
       "    <tr>\n",
       "      <th>2</th>\n",
       "      <td>0</td>\n",
       "      <td>permanent, full time</td>\n",
       "      <td>225</td>\n",
       "    </tr>\n",
       "    <tr>\n",
       "      <th>3</th>\n",
       "      <td>1</td>\n",
       "      <td>full time</td>\n",
       "      <td>24</td>\n",
       "    </tr>\n",
       "    <tr>\n",
       "      <th>4</th>\n",
       "      <td>1</td>\n",
       "      <td>permanent</td>\n",
       "      <td>31</td>\n",
       "    </tr>\n",
       "    <tr>\n",
       "      <th>5</th>\n",
       "      <td>1</td>\n",
       "      <td>permanent, full time</td>\n",
       "      <td>18</td>\n",
       "    </tr>\n",
       "  </tbody>\n",
       "</table>\n",
       "</div>"
      ],
      "text/plain": [
       "   scientist       employment_type  count\n",
       "0          0             full time    404\n",
       "1          0             permanent    245\n",
       "2          0  permanent, full time    225\n",
       "3          1             full time     24\n",
       "4          1             permanent     31\n",
       "5          1  permanent, full time     18"
      ]
     },
     "execution_count": 38,
     "metadata": {},
     "output_type": "execute_result"
    }
   ],
   "source": [
    "# lets take a look at the employment type for the data related jobs\n",
    "ds_emptype = pd.DataFrame(ds_ornot.groupby(['scientist', 'employment_type']).size()).reset_index()\n",
    "ds_emptype.rename(columns = {0: 'count'}, inplace = True)\n",
    "ds_emptype"
   ]
  },
  {
   "cell_type": "code",
   "execution_count": 39,
   "metadata": {},
   "outputs": [
    {
     "data": {
      "image/png": "[encoded data removed]",
      "text/plain": [
       "<Figure size 864x432 with 1 Axes>"
      ]
     },
     "metadata": {
      "image/png": {
       "height": 372,
       "width": 722
      },
      "needs_background": "light"
     },
     "output_type": "display_data"
    }
   ],
   "source": [
    "# same as salary, all 3 combinations of DS vs non-DS in each employment type is about the same with not much variance\n",
    "# maybe full time have slightly larger ratio of non DS to DS but the variance is still not significant after comparison with the other 2 class\n",
    "# employment_type will not be used as a feature\n",
    "fig = plt.figure(figsize= (12,6))\n",
    "sns.barplot(x = ds_emptype['employment_type'], y = ds_emptype['count'], hue = ds_emptype['scientist'])\n",
    "plt.show()"
   ]
  },
  {
   "cell_type": "code",
   "execution_count": 40,
   "metadata": {},
   "outputs": [],
   "source": [
    "# take a look at seniority and industry\n",
    "ds_senior = pd.DataFrame(ds_ornot.groupby(['seniority', 'scientist']).size()).reset_index()\n",
    "ds_senior.rename(columns = {0: 'count'}, inplace = True)\n",
    "senior = ds_senior[ds_senior['scientist'] == 1].reset_index()\n",
    "ds_industry = pd.DataFrame(ds_ornot.groupby(['industry', 'scientist']).size()).reset_index()\n",
    "ds_industry.rename(columns = {0: 'count'}, inplace = True)\n",
    "industry = ds_industry[ds_industry['scientist'] == 1].reset_index()"
   ]
  },
  {
   "cell_type": "code",
   "execution_count": 41,
   "metadata": {},
   "outputs": [
    {
     "data": {
      "image/png": "[encoded data removed]",
      "text/plain": [
       "<Figure size 864x432 with 1 Axes>"
      ]
     },
     "metadata": {
      "image/png": {
       "height": 358,
       "width": 717
      },
      "needs_background": "light"
     },
     "output_type": "display_data"
    }
   ],
   "source": [
    "# To viualize the seniority, I will use the index to represent the different levels of seniority for easier plotting\n",
    "fig = plt.figure(figsize= (12,6))\n",
    "sns.lineplot(x = range(len(senior)), y = senior['count'])\n",
    "plt.show()"
   ]
  },
  {
   "cell_type": "code",
   "execution_count": 42,
   "metadata": {},
   "outputs": [],
   "source": [
    "# theres a spike in the line graph. investigate\n",
    "senior.drop('index', axis = 1, inplace = True)"
   ]
  },
  {
   "cell_type": "code",
   "execution_count": 43,
   "metadata": {},
   "outputs": [
    {
     "data": {
      "text/html": [
       "<div>\n",
       "<style scoped>\n",
       "    .dataframe tbody tr th:only-of-type {\n",
       "        vertical-align: middle;\n",
       "    }\n",
       "\n",
       "    .dataframe tbody tr th {\n",
       "        vertical-align: top;\n",
       "    }\n",
       "\n",
       "    .dataframe thead th {\n",
       "        text-align: right;\n",
       "    }\n",
       "</style>\n",
       "<table border=\"1\" class=\"dataframe\">\n",
       "  <thead>\n",
       "    <tr style=\"text-align: right;\">\n",
       "      <th></th>\n",
       "      <th>seniority</th>\n",
       "      <th>scientist</th>\n",
       "      <th>count</th>\n",
       "    </tr>\n",
       "  </thead>\n",
       "  <tbody>\n",
       "    <tr>\n",
       "      <th>0</th>\n",
       "      <td>executive</td>\n",
       "      <td>1</td>\n",
       "      <td>15</td>\n",
       "    </tr>\n",
       "    <tr>\n",
       "      <th>1</th>\n",
       "      <td>executive, junior executive, senior executive</td>\n",
       "      <td>1</td>\n",
       "      <td>1</td>\n",
       "    </tr>\n",
       "    <tr>\n",
       "      <th>2</th>\n",
       "      <td>executive, senior executive</td>\n",
       "      <td>1</td>\n",
       "      <td>1</td>\n",
       "    </tr>\n",
       "    <tr>\n",
       "      <th>3</th>\n",
       "      <td>fresh/entry level</td>\n",
       "      <td>1</td>\n",
       "      <td>4</td>\n",
       "    </tr>\n",
       "    <tr>\n",
       "      <th>4</th>\n",
       "      <td>fresh/entry level, junior executive</td>\n",
       "      <td>1</td>\n",
       "      <td>1</td>\n",
       "    </tr>\n",
       "    <tr>\n",
       "      <th>5</th>\n",
       "      <td>fresh/entry level, junior executive, senior ex...</td>\n",
       "      <td>1</td>\n",
       "      <td>1</td>\n",
       "    </tr>\n",
       "    <tr>\n",
       "      <th>6</th>\n",
       "      <td>junior executive</td>\n",
       "      <td>1</td>\n",
       "      <td>1</td>\n",
       "    </tr>\n",
       "    <tr>\n",
       "      <th>7</th>\n",
       "      <td>manager</td>\n",
       "      <td>1</td>\n",
       "      <td>2</td>\n",
       "    </tr>\n",
       "    <tr>\n",
       "      <th>8</th>\n",
       "      <td>manager, executive</td>\n",
       "      <td>1</td>\n",
       "      <td>1</td>\n",
       "    </tr>\n",
       "    <tr>\n",
       "      <th>9</th>\n",
       "      <td>middle management</td>\n",
       "      <td>1</td>\n",
       "      <td>5</td>\n",
       "    </tr>\n",
       "    <tr>\n",
       "      <th>10</th>\n",
       "      <td>middle management, manager, professional</td>\n",
       "      <td>1</td>\n",
       "      <td>1</td>\n",
       "    </tr>\n",
       "    <tr>\n",
       "      <th>11</th>\n",
       "      <td>non-executive</td>\n",
       "      <td>1</td>\n",
       "      <td>2</td>\n",
       "    </tr>\n",
       "    <tr>\n",
       "      <th>12</th>\n",
       "      <td>professional</td>\n",
       "      <td>1</td>\n",
       "      <td>27</td>\n",
       "    </tr>\n",
       "    <tr>\n",
       "      <th>13</th>\n",
       "      <td>professional, executive</td>\n",
       "      <td>1</td>\n",
       "      <td>1</td>\n",
       "    </tr>\n",
       "    <tr>\n",
       "      <th>14</th>\n",
       "      <td>professional, executive, senior executive</td>\n",
       "      <td>1</td>\n",
       "      <td>1</td>\n",
       "    </tr>\n",
       "    <tr>\n",
       "      <th>15</th>\n",
       "      <td>senior executive</td>\n",
       "      <td>1</td>\n",
       "      <td>5</td>\n",
       "    </tr>\n",
       "    <tr>\n",
       "      <th>16</th>\n",
       "      <td>senior management</td>\n",
       "      <td>1</td>\n",
       "      <td>3</td>\n",
       "    </tr>\n",
       "    <tr>\n",
       "      <th>17</th>\n",
       "      <td>senior management, middle management, manager,...</td>\n",
       "      <td>1</td>\n",
       "      <td>1</td>\n",
       "    </tr>\n",
       "  </tbody>\n",
       "</table>\n",
       "</div>"
      ],
      "text/plain": [
       "                                            seniority  scientist  count\n",
       "0                                           executive          1     15\n",
       "1       executive, junior executive, senior executive          1      1\n",
       "2                         executive, senior executive          1      1\n",
       "3                                   fresh/entry level          1      4\n",
       "4                 fresh/entry level, junior executive          1      1\n",
       "5   fresh/entry level, junior executive, senior ex...          1      1\n",
       "6                                    junior executive          1      1\n",
       "7                                             manager          1      2\n",
       "8                                  manager, executive          1      1\n",
       "9                                   middle management          1      5\n",
       "10           middle management, manager, professional          1      1\n",
       "11                                      non-executive          1      2\n",
       "12                                       professional          1     27\n",
       "13                            professional, executive          1      1\n",
       "14          professional, executive, senior executive          1      1\n",
       "15                                   senior executive          1      5\n",
       "16                                  senior management          1      3\n",
       "17  senior management, middle management, manager,...          1      1"
      ]
     },
     "execution_count": 43,
     "metadata": {},
     "output_type": "execute_result"
    }
   ],
   "source": [
    "# the spike comes from professionals and executive, hence tthis seems to be a distinguishing factor for DS vs non-DS\n",
    "# will include this feature as a predictor\n",
    "senior"
   ]
  },
  {
   "cell_type": "code",
   "execution_count": 44,
   "metadata": {},
   "outputs": [
    {
     "data": {
      "image/png": "[encoded data removed]",
      "text/plain": [
       "<Figure size 864x432 with 1 Axes>"
      ]
     },
     "metadata": {
      "image/png": {
       "height": 358,
       "width": 717
      },
      "needs_background": "light"
     },
     "output_type": "display_data"
    }
   ],
   "source": [
    "# Similarity to seniority, theres a spike in the line graph.\n",
    "fig = plt.figure(figsize= (12,6))\n",
    "sns.lineplot(x = range(len(industry)), y = industry['count'])\n",
    "plt.show()"
   ]
  },
  {
   "cell_type": "code",
   "execution_count": 45,
   "metadata": {},
   "outputs": [
    {
     "data": {
      "text/html": [
       "<div>\n",
       "<style scoped>\n",
       "    .dataframe tbody tr th:only-of-type {\n",
       "        vertical-align: middle;\n",
       "    }\n",
       "\n",
       "    .dataframe tbody tr th {\n",
       "        vertical-align: top;\n",
       "    }\n",
       "\n",
       "    .dataframe thead th {\n",
       "        text-align: right;\n",
       "    }\n",
       "</style>\n",
       "<table border=\"1\" class=\"dataframe\">\n",
       "  <thead>\n",
       "    <tr style=\"text-align: right;\">\n",
       "      <th></th>\n",
       "      <th>index</th>\n",
       "      <th>industry</th>\n",
       "      <th>scientist</th>\n",
       "      <th>count</th>\n",
       "    </tr>\n",
       "  </thead>\n",
       "  <tbody>\n",
       "    <tr>\n",
       "      <th>0</th>\n",
       "      <td>11</td>\n",
       "      <td>advertising / media , information technology, ...</td>\n",
       "      <td>1</td>\n",
       "      <td>1</td>\n",
       "    </tr>\n",
       "    <tr>\n",
       "      <th>1</th>\n",
       "      <td>14</td>\n",
       "      <td>banking and finance</td>\n",
       "      <td>1</td>\n",
       "      <td>6</td>\n",
       "    </tr>\n",
       "    <tr>\n",
       "      <th>2</th>\n",
       "      <td>16</td>\n",
       "      <td>banking and finance, engineering, information ...</td>\n",
       "      <td>1</td>\n",
       "      <td>1</td>\n",
       "    </tr>\n",
       "    <tr>\n",
       "      <th>3</th>\n",
       "      <td>18</td>\n",
       "      <td>banking and finance, information technology</td>\n",
       "      <td>1</td>\n",
       "      <td>1</td>\n",
       "    </tr>\n",
       "    <tr>\n",
       "      <th>4</th>\n",
       "      <td>19</td>\n",
       "      <td>banking and finance, information technology, i...</td>\n",
       "      <td>1</td>\n",
       "      <td>1</td>\n",
       "    </tr>\n",
       "    <tr>\n",
       "      <th>5</th>\n",
       "      <td>23</td>\n",
       "      <td>consulting</td>\n",
       "      <td>1</td>\n",
       "      <td>3</td>\n",
       "    </tr>\n",
       "    <tr>\n",
       "      <th>6</th>\n",
       "      <td>40</td>\n",
       "      <td>design, engineering, information technology, o...</td>\n",
       "      <td>1</td>\n",
       "      <td>1</td>\n",
       "    </tr>\n",
       "    <tr>\n",
       "      <th>7</th>\n",
       "      <td>46</td>\n",
       "      <td>engineering</td>\n",
       "      <td>1</td>\n",
       "      <td>7</td>\n",
       "    </tr>\n",
       "    <tr>\n",
       "      <th>8</th>\n",
       "      <td>49</td>\n",
       "      <td>engineering, information technology</td>\n",
       "      <td>1</td>\n",
       "      <td>1</td>\n",
       "    </tr>\n",
       "    <tr>\n",
       "      <th>9</th>\n",
       "      <td>53</td>\n",
       "      <td>engineering, information technology, sciences ...</td>\n",
       "      <td>1</td>\n",
       "      <td>1</td>\n",
       "    </tr>\n",
       "    <tr>\n",
       "      <th>10</th>\n",
       "      <td>56</td>\n",
       "      <td>engineering, manufacturing</td>\n",
       "      <td>1</td>\n",
       "      <td>1</td>\n",
       "    </tr>\n",
       "    <tr>\n",
       "      <th>11</th>\n",
       "      <td>62</td>\n",
       "      <td>general management</td>\n",
       "      <td>1</td>\n",
       "      <td>1</td>\n",
       "    </tr>\n",
       "    <tr>\n",
       "      <th>12</th>\n",
       "      <td>70</td>\n",
       "      <td>information technology</td>\n",
       "      <td>1</td>\n",
       "      <td>38</td>\n",
       "    </tr>\n",
       "    <tr>\n",
       "      <th>13</th>\n",
       "      <td>73</td>\n",
       "      <td>information technology, logistics / supply chain</td>\n",
       "      <td>1</td>\n",
       "      <td>1</td>\n",
       "    </tr>\n",
       "    <tr>\n",
       "      <th>14</th>\n",
       "      <td>77</td>\n",
       "      <td>information technology, others</td>\n",
       "      <td>1</td>\n",
       "      <td>1</td>\n",
       "    </tr>\n",
       "    <tr>\n",
       "      <th>15</th>\n",
       "      <td>83</td>\n",
       "      <td>information technology, telecommunications</td>\n",
       "      <td>1</td>\n",
       "      <td>1</td>\n",
       "    </tr>\n",
       "    <tr>\n",
       "      <th>16</th>\n",
       "      <td>87</td>\n",
       "      <td>logistics / supply chain</td>\n",
       "      <td>1</td>\n",
       "      <td>2</td>\n",
       "    </tr>\n",
       "    <tr>\n",
       "      <th>17</th>\n",
       "      <td>90</td>\n",
       "      <td>manufacturing, others</td>\n",
       "      <td>1</td>\n",
       "      <td>1</td>\n",
       "    </tr>\n",
       "    <tr>\n",
       "      <th>18</th>\n",
       "      <td>94</td>\n",
       "      <td>others</td>\n",
       "      <td>1</td>\n",
       "      <td>1</td>\n",
       "    </tr>\n",
       "    <tr>\n",
       "      <th>19</th>\n",
       "      <td>100</td>\n",
       "      <td>risk management, banking and finance</td>\n",
       "      <td>1</td>\n",
       "      <td>1</td>\n",
       "    </tr>\n",
       "    <tr>\n",
       "      <th>20</th>\n",
       "      <td>103</td>\n",
       "      <td>sciences / laboratory / r&amp;d</td>\n",
       "      <td>1</td>\n",
       "      <td>1</td>\n",
       "    </tr>\n",
       "    <tr>\n",
       "      <th>21</th>\n",
       "      <td>107</td>\n",
       "      <td>telecommunications</td>\n",
       "      <td>1</td>\n",
       "      <td>1</td>\n",
       "    </tr>\n",
       "  </tbody>\n",
       "</table>\n",
       "</div>"
      ],
      "text/plain": [
       "    index                                           industry  scientist  count\n",
       "0      11  advertising / media , information technology, ...          1      1\n",
       "1      14                                banking and finance          1      6\n",
       "2      16  banking and finance, engineering, information ...          1      1\n",
       "3      18        banking and finance, information technology          1      1\n",
       "4      19  banking and finance, information technology, i...          1      1\n",
       "5      23                                        consulting           1      3\n",
       "6      40  design, engineering, information technology, o...          1      1\n",
       "7      46                                        engineering          1      7\n",
       "8      49                engineering, information technology          1      1\n",
       "9      53  engineering, information technology, sciences ...          1      1\n",
       "10     56                         engineering, manufacturing          1      1\n",
       "11     62                                 general management          1      1\n",
       "12     70                             information technology          1     38\n",
       "13     73   information technology, logistics / supply chain          1      1\n",
       "14     77                     information technology, others          1      1\n",
       "15     83         information technology, telecommunications          1      1\n",
       "16     87                           logistics / supply chain          1      2\n",
       "17     90                              manufacturing, others          1      1\n",
       "18     94                                             others          1      1\n",
       "19    100               risk management, banking and finance          1      1\n",
       "20    103                        sciences / laboratory / r&d          1      1\n",
       "21    107                                 telecommunications          1      1"
      ]
     },
     "execution_count": 45,
     "metadata": {},
     "output_type": "execute_result"
    }
   ],
   "source": [
    "# lets try to account for the spikes in the line graph\n",
    "# most of the spikes comes from IT, a distingushing factor for DS vs non-DS\n",
    "# will include this feature as a predictor\n",
    "industry"
   ]
  },
  {
   "cell_type": "code",
   "execution_count": 46,
   "metadata": {},
   "outputs": [],
   "source": [
    "ds_ornot.loc[:, 'min_experience'] = ds_ornot['min_experience'].replace(np.nan, '0')\n",
    "ds_ornot['min_experience'] = [x[0] for x in ds_ornot['min_experience']]"
   ]
  },
  {
   "cell_type": "code",
   "execution_count": 47,
   "metadata": {},
   "outputs": [],
   "source": [
    "# determine if min_experience maybe important for DS vs non-DS differentiation\n",
    "ds_exp = pd.DataFrame(ds_ornot.groupby(['min_experience', 'scientist']).size()).reset_index()\n",
    "ds_exp.rename(columns = {0: 'count'}, inplace = True)"
   ]
  },
  {
   "cell_type": "code",
   "execution_count": 48,
   "metadata": {},
   "outputs": [
    {
     "data": {
      "image/png": "[encoded data removed]",
      "text/plain": [
       "<Figure size 864x432 with 1 Axes>"
      ]
     },
     "metadata": {
      "image/png": {
       "height": 358,
       "width": 722
      },
      "needs_background": "light"
     },
     "output_type": "display_data"
    }
   ],
   "source": [
    "# this feature will not be used in our predictors as it doesnt give much information/insights\n",
    "fig = plt.figure(figsize= (12,6))\n",
    "sns.lineplot(x = range(len(ds_exp)), y = ds_exp['count'])\n",
    "plt.show()"
   ]
  },
  {
   "cell_type": "markdown",
   "metadata": {},
   "source": [
    "Predictors will be seniority, industry, roles&responsibilities and job description.\n",
    "Target will be DS or not, the scientist column in the dataset."
   ]
  },
  {
   "cell_type": "code",
   "execution_count": 49,
   "metadata": {},
   "outputs": [],
   "source": [
    "predictor = ds_ornot[['seniority', 'industry', 'job_requirements', 'role_responsibilities']]\n",
    "target = ds_ornot['scientist']"
   ]
  },
  {
   "cell_type": "code",
   "execution_count": 50,
   "metadata": {},
   "outputs": [
    {
     "name": "stdout",
     "output_type": "stream",
     "text": [
      "172908\n"
     ]
    }
   ],
   "source": [
    "# prepare predictor for modelling\n",
    "for col in predictor:\n",
    "    cvec = CountVectorizer(stop_words= 'english', ngram_range=(2,3)) \n",
    "    words_df = pd.DataFrame(cvec.fit_transform(predictor[col]).todense())\n",
    "    word_name = [col + '_' + word for word in cvec.get_feature_names()]\n",
    "    words_df.columns = word_name\n",
    "\n",
    "print(len(words_df.columns))\n",
    "words_df.sum().sort_values(ascending = False)[:75]\n",
    "words_df.drop(['role_responsibilities_xa0 xa0', 'role_responsibilities_xa0 xa0 xa0'], axis = 1, inplace = True)"
   ]
  },
  {
   "cell_type": "code",
   "execution_count": 51,
   "metadata": {},
   "outputs": [
    {
     "name": "stderr",
     "output_type": "stream",
     "text": [
      "C:\\ProgramData\\Anaconda3\\lib\\site-packages\\sklearn\\utils\\validation.py:595: DataConversionWarning: Data with input dtype int64 was converted to float64 by StandardScaler.\n",
      "  warnings.warn(msg, DataConversionWarning)\n",
      "C:\\ProgramData\\Anaconda3\\lib\\site-packages\\sklearn\\utils\\validation.py:595: DataConversionWarning: Data with input dtype int64 was converted to float64 by StandardScaler.\n",
      "  warnings.warn(msg, DataConversionWarning)\n"
     ]
    }
   ],
   "source": [
    "# if theres 172908 columns, we have to rank the feature according to some metrics\n",
    "# recommend using feature selection models, either Kbest or RFECV, will prob go with KBest, RFECV will take forever\n",
    "ss = StandardScaler()\n",
    "words_bag = ss.fit_transform(words_df.values)"
   ]
  },
  {
   "cell_type": "code",
   "execution_count": 52,
   "metadata": {},
   "outputs": [
    {
     "name": "stdout",
     "output_type": "stream",
     "text": [
      "(947, 172906) (947,)\n"
     ]
    }
   ],
   "source": [
    "X = words_bag\n",
    "y = ds_ornot['scientist']\n",
    "print(X.shape, y.shape)"
   ]
  },
  {
   "cell_type": "code",
   "execution_count": 53,
   "metadata": {},
   "outputs": [
    {
     "data": {
      "text/html": [
       "<div>\n",
       "<style scoped>\n",
       "    .dataframe tbody tr th:only-of-type {\n",
       "        vertical-align: middle;\n",
       "    }\n",
       "\n",
       "    .dataframe tbody tr th {\n",
       "        vertical-align: top;\n",
       "    }\n",
       "\n",
       "    .dataframe thead th {\n",
       "        text-align: right;\n",
       "    }\n",
       "</style>\n",
       "<table border=\"1\" class=\"dataframe\">\n",
       "  <thead>\n",
       "    <tr style=\"text-align: right;\">\n",
       "      <th></th>\n",
       "      <th>feature</th>\n",
       "      <th>score</th>\n",
       "    </tr>\n",
       "  </thead>\n",
       "  <tbody>\n",
       "    <tr>\n",
       "      <th>0</th>\n",
       "      <td>role_responsibilities_data scientist</td>\n",
       "      <td>255.469217</td>\n",
       "    </tr>\n",
       "    <tr>\n",
       "      <th>1</th>\n",
       "      <td>role_responsibilities_learning techniques</td>\n",
       "      <td>95.774869</td>\n",
       "    </tr>\n",
       "    <tr>\n",
       "      <th>2</th>\n",
       "      <td>role_responsibilities_deep learning</td>\n",
       "      <td>88.972377</td>\n",
       "    </tr>\n",
       "    <tr>\n",
       "      <th>3</th>\n",
       "      <td>role_responsibilities_machine learning techniques</td>\n",
       "      <td>84.061337</td>\n",
       "    </tr>\n",
       "    <tr>\n",
       "      <th>4</th>\n",
       "      <td>role_responsibilities_data science</td>\n",
       "      <td>78.221319</td>\n",
       "    </tr>\n",
       "    <tr>\n",
       "      <th>5</th>\n",
       "      <td>role_responsibilities_advanced statistical</td>\n",
       "      <td>67.010850</td>\n",
       "    </tr>\n",
       "    <tr>\n",
       "      <th>6</th>\n",
       "      <td>role_responsibilities_statistical analysis</td>\n",
       "      <td>64.982165</td>\n",
       "    </tr>\n",
       "    <tr>\n",
       "      <th>7</th>\n",
       "      <td>role_responsibilities_analytical solutions</td>\n",
       "      <td>64.677882</td>\n",
       "    </tr>\n",
       "    <tr>\n",
       "      <th>8</th>\n",
       "      <td>role_responsibilities_time series</td>\n",
       "      <td>64.128983</td>\n",
       "    </tr>\n",
       "    <tr>\n",
       "      <th>9</th>\n",
       "      <td>role_responsibilities_work multi</td>\n",
       "      <td>64.128983</td>\n",
       "    </tr>\n",
       "    <tr>\n",
       "      <th>10</th>\n",
       "      <td>role_responsibilities_deep learning based</td>\n",
       "      <td>64.128983</td>\n",
       "    </tr>\n",
       "    <tr>\n",
       "      <th>11</th>\n",
       "      <td>role_responsibilities_applying machine learning</td>\n",
       "      <td>64.128983</td>\n",
       "    </tr>\n",
       "    <tr>\n",
       "      <th>12</th>\n",
       "      <td>role_responsibilities_advanced statistical ana...</td>\n",
       "      <td>64.128983</td>\n",
       "    </tr>\n",
       "    <tr>\n",
       "      <th>13</th>\n",
       "      <td>role_responsibilities_applying machine</td>\n",
       "      <td>64.128983</td>\n",
       "    </tr>\n",
       "    <tr>\n",
       "      <th>14</th>\n",
       "      <td>role_responsibilities_large data sets</td>\n",
       "      <td>57.035396</td>\n",
       "    </tr>\n",
       "    <tr>\n",
       "      <th>15</th>\n",
       "      <td>role_responsibilities_using state</td>\n",
       "      <td>51.055072</td>\n",
       "    </tr>\n",
       "    <tr>\n",
       "      <th>16</th>\n",
       "      <td>role_responsibilities_using state art</td>\n",
       "      <td>51.055072</td>\n",
       "    </tr>\n",
       "    <tr>\n",
       "      <th>17</th>\n",
       "      <td>role_responsibilities_freedom explore</td>\n",
       "      <td>51.055072</td>\n",
       "    </tr>\n",
       "    <tr>\n",
       "      <th>18</th>\n",
       "      <td>role_responsibilities_machine learning</td>\n",
       "      <td>50.714990</td>\n",
       "    </tr>\n",
       "    <tr>\n",
       "      <th>19</th>\n",
       "      <td>role_responsibilities_conceptualize analysis i...</td>\n",
       "      <td>50.559662</td>\n",
       "    </tr>\n",
       "    <tr>\n",
       "      <th>20</th>\n",
       "      <td>role_responsibilities_learning reinforced lear...</td>\n",
       "      <td>50.559662</td>\n",
       "    </tr>\n",
       "    <tr>\n",
       "      <th>21</th>\n",
       "      <td>role_responsibilities_analyzing large</td>\n",
       "      <td>50.559662</td>\n",
       "    </tr>\n",
       "    <tr>\n",
       "      <th>22</th>\n",
       "      <td>role_responsibilities_analyzing large complex</td>\n",
       "      <td>50.559662</td>\n",
       "    </tr>\n",
       "    <tr>\n",
       "      <th>23</th>\n",
       "      <td>role_responsibilities_scientist applying</td>\n",
       "      <td>50.559662</td>\n",
       "    </tr>\n",
       "    <tr>\n",
       "      <th>24</th>\n",
       "      <td>role_responsibilities_conduct advanced</td>\n",
       "      <td>50.559662</td>\n",
       "    </tr>\n",
       "    <tr>\n",
       "      <th>25</th>\n",
       "      <td>role_responsibilities_conduct advanced statist...</td>\n",
       "      <td>50.559662</td>\n",
       "    </tr>\n",
       "    <tr>\n",
       "      <th>26</th>\n",
       "      <td>role_responsibilities_scientist applying machine</td>\n",
       "      <td>50.559662</td>\n",
       "    </tr>\n",
       "    <tr>\n",
       "      <th>27</th>\n",
       "      <td>role_responsibilities_learning techniques deep</td>\n",
       "      <td>50.559662</td>\n",
       "    </tr>\n",
       "    <tr>\n",
       "      <th>28</th>\n",
       "      <td>role_responsibilities_deep learning reinforced</td>\n",
       "      <td>50.559662</td>\n",
       "    </tr>\n",
       "    <tr>\n",
       "      <th>29</th>\n",
       "      <td>role_responsibilities_learning techniques solve</td>\n",
       "      <td>50.559662</td>\n",
       "    </tr>\n",
       "    <tr>\n",
       "      <th>...</th>\n",
       "      <td>...</td>\n",
       "      <td>...</td>\n",
       "    </tr>\n",
       "    <tr>\n",
       "      <th>172876</th>\n",
       "      <td>role_responsibilities_data warehouse</td>\n",
       "      <td>0.004538</td>\n",
       "    </tr>\n",
       "    <tr>\n",
       "      <th>172877</th>\n",
       "      <td>role_responsibilities_capital markets</td>\n",
       "      <td>0.004418</td>\n",
       "    </tr>\n",
       "    <tr>\n",
       "      <th>172878</th>\n",
       "      <td>role_responsibilities_data systems</td>\n",
       "      <td>0.004037</td>\n",
       "    </tr>\n",
       "    <tr>\n",
       "      <th>172879</th>\n",
       "      <td>role_responsibilities_designing building</td>\n",
       "      <td>0.004037</td>\n",
       "    </tr>\n",
       "    <tr>\n",
       "      <th>172880</th>\n",
       "      <td>role_responsibilities_data lake</td>\n",
       "      <td>0.003972</td>\n",
       "    </tr>\n",
       "    <tr>\n",
       "      <th>172881</th>\n",
       "      <td>role_responsibilities_data modeling</td>\n",
       "      <td>0.003609</td>\n",
       "    </tr>\n",
       "    <tr>\n",
       "      <th>172882</th>\n",
       "      <td>role_responsibilities_development implementation</td>\n",
       "      <td>0.003535</td>\n",
       "    </tr>\n",
       "    <tr>\n",
       "      <th>172883</th>\n",
       "      <td>role_responsibilities_ui ux</td>\n",
       "      <td>0.003411</td>\n",
       "    </tr>\n",
       "    <tr>\n",
       "      <th>172884</th>\n",
       "      <td>role_responsibilities_data infrastructure</td>\n",
       "      <td>0.002827</td>\n",
       "    </tr>\n",
       "    <tr>\n",
       "      <th>172885</th>\n",
       "      <td>role_responsibilities_data pipeline</td>\n",
       "      <td>0.002642</td>\n",
       "    </tr>\n",
       "    <tr>\n",
       "      <th>172886</th>\n",
       "      <td>role_responsibilities_innovative solutions</td>\n",
       "      <td>0.002454</td>\n",
       "    </tr>\n",
       "    <tr>\n",
       "      <th>172887</th>\n",
       "      <td>role_responsibilities_real time</td>\n",
       "      <td>0.001429</td>\n",
       "    </tr>\n",
       "    <tr>\n",
       "      <th>172888</th>\n",
       "      <td>role_responsibilities_products services</td>\n",
       "      <td>0.000013</td>\n",
       "    </tr>\n",
       "    <tr>\n",
       "      <th>172889</th>\n",
       "      <td>role_responsibilities_business units</td>\n",
       "      <td>0.000009</td>\n",
       "    </tr>\n",
       "    <tr>\n",
       "      <th>172890</th>\n",
       "      <td>role_responsibilities_use cases</td>\n",
       "      <td>0.000009</td>\n",
       "    </tr>\n",
       "    <tr>\n",
       "      <th>172891</th>\n",
       "      <td>role_responsibilities_data analyst</td>\n",
       "      <td>0.000006</td>\n",
       "    </tr>\n",
       "    <tr>\n",
       "      <th>172892</th>\n",
       "      <td>role_responsibilities_analyzing data</td>\n",
       "      <td>0.000005</td>\n",
       "    </tr>\n",
       "    <tr>\n",
       "      <th>172893</th>\n",
       "      <td>role_responsibilities_track record</td>\n",
       "      <td>0.000005</td>\n",
       "    </tr>\n",
       "    <tr>\n",
       "      <th>172894</th>\n",
       "      <td>role_responsibilities_client needs</td>\n",
       "      <td>0.000005</td>\n",
       "    </tr>\n",
       "    <tr>\n",
       "      <th>172895</th>\n",
       "      <td>role_responsibilities_new technology</td>\n",
       "      <td>0.000005</td>\n",
       "    </tr>\n",
       "    <tr>\n",
       "      <th>172896</th>\n",
       "      <td>role_responsibilities_analyse data</td>\n",
       "      <td>0.000005</td>\n",
       "    </tr>\n",
       "    <tr>\n",
       "      <th>172897</th>\n",
       "      <td>role_responsibilities_world leading</td>\n",
       "      <td>0.000005</td>\n",
       "    </tr>\n",
       "    <tr>\n",
       "      <th>172898</th>\n",
       "      <td>role_responsibilities_requirements xa0</td>\n",
       "      <td>0.000005</td>\n",
       "    </tr>\n",
       "    <tr>\n",
       "      <th>172899</th>\n",
       "      <td>role_responsibilities_processes xa0</td>\n",
       "      <td>0.000004</td>\n",
       "    </tr>\n",
       "    <tr>\n",
       "      <th>172900</th>\n",
       "      <td>role_responsibilities_data data</td>\n",
       "      <td>0.000004</td>\n",
       "    </tr>\n",
       "    <tr>\n",
       "      <th>172901</th>\n",
       "      <td>role_responsibilities_work alongside</td>\n",
       "      <td>0.000004</td>\n",
       "    </tr>\n",
       "    <tr>\n",
       "      <th>172902</th>\n",
       "      <td>role_responsibilities_teams develop</td>\n",
       "      <td>0.000004</td>\n",
       "    </tr>\n",
       "    <tr>\n",
       "      <th>172903</th>\n",
       "      <td>role_responsibilities_south east asia</td>\n",
       "      <td>0.000004</td>\n",
       "    </tr>\n",
       "    <tr>\n",
       "      <th>172904</th>\n",
       "      <td>role_responsibilities_team member</td>\n",
       "      <td>0.000004</td>\n",
       "    </tr>\n",
       "    <tr>\n",
       "      <th>172905</th>\n",
       "      <td>role_responsibilities_solve problems</td>\n",
       "      <td>0.000004</td>\n",
       "    </tr>\n",
       "  </tbody>\n",
       "</table>\n",
       "<p>172906 rows × 2 columns</p>\n",
       "</div>"
      ],
      "text/plain": [
       "                                                  feature       score\n",
       "0                    role_responsibilities_data scientist  255.469217\n",
       "1               role_responsibilities_learning techniques   95.774869\n",
       "2                     role_responsibilities_deep learning   88.972377\n",
       "3       role_responsibilities_machine learning techniques   84.061337\n",
       "4                      role_responsibilities_data science   78.221319\n",
       "5              role_responsibilities_advanced statistical   67.010850\n",
       "6              role_responsibilities_statistical analysis   64.982165\n",
       "7              role_responsibilities_analytical solutions   64.677882\n",
       "8                       role_responsibilities_time series   64.128983\n",
       "9                        role_responsibilities_work multi   64.128983\n",
       "10              role_responsibilities_deep learning based   64.128983\n",
       "11        role_responsibilities_applying machine learning   64.128983\n",
       "12      role_responsibilities_advanced statistical ana...   64.128983\n",
       "13                 role_responsibilities_applying machine   64.128983\n",
       "14                  role_responsibilities_large data sets   57.035396\n",
       "15                      role_responsibilities_using state   51.055072\n",
       "16                  role_responsibilities_using state art   51.055072\n",
       "17                  role_responsibilities_freedom explore   51.055072\n",
       "18                 role_responsibilities_machine learning   50.714990\n",
       "19      role_responsibilities_conceptualize analysis i...   50.559662\n",
       "20      role_responsibilities_learning reinforced lear...   50.559662\n",
       "21                  role_responsibilities_analyzing large   50.559662\n",
       "22          role_responsibilities_analyzing large complex   50.559662\n",
       "23               role_responsibilities_scientist applying   50.559662\n",
       "24                 role_responsibilities_conduct advanced   50.559662\n",
       "25      role_responsibilities_conduct advanced statist...   50.559662\n",
       "26       role_responsibilities_scientist applying machine   50.559662\n",
       "27         role_responsibilities_learning techniques deep   50.559662\n",
       "28         role_responsibilities_deep learning reinforced   50.559662\n",
       "29        role_responsibilities_learning techniques solve   50.559662\n",
       "...                                                   ...         ...\n",
       "172876               role_responsibilities_data warehouse    0.004538\n",
       "172877              role_responsibilities_capital markets    0.004418\n",
       "172878                 role_responsibilities_data systems    0.004037\n",
       "172879           role_responsibilities_designing building    0.004037\n",
       "172880                    role_responsibilities_data lake    0.003972\n",
       "172881                role_responsibilities_data modeling    0.003609\n",
       "172882   role_responsibilities_development implementation    0.003535\n",
       "172883                        role_responsibilities_ui ux    0.003411\n",
       "172884          role_responsibilities_data infrastructure    0.002827\n",
       "172885                role_responsibilities_data pipeline    0.002642\n",
       "172886         role_responsibilities_innovative solutions    0.002454\n",
       "172887                    role_responsibilities_real time    0.001429\n",
       "172888            role_responsibilities_products services    0.000013\n",
       "172889               role_responsibilities_business units    0.000009\n",
       "172890                    role_responsibilities_use cases    0.000009\n",
       "172891                 role_responsibilities_data analyst    0.000006\n",
       "172892               role_responsibilities_analyzing data    0.000005\n",
       "172893                 role_responsibilities_track record    0.000005\n",
       "172894                 role_responsibilities_client needs    0.000005\n",
       "172895               role_responsibilities_new technology    0.000005\n",
       "172896                 role_responsibilities_analyse data    0.000005\n",
       "172897                role_responsibilities_world leading    0.000005\n",
       "172898             role_responsibilities_requirements xa0    0.000005\n",
       "172899                role_responsibilities_processes xa0    0.000004\n",
       "172900                    role_responsibilities_data data    0.000004\n",
       "172901               role_responsibilities_work alongside    0.000004\n",
       "172902                role_responsibilities_teams develop    0.000004\n",
       "172903              role_responsibilities_south east asia    0.000004\n",
       "172904                  role_responsibilities_team member    0.000004\n",
       "172905               role_responsibilities_solve problems    0.000004\n",
       "\n",
       "[172906 rows x 2 columns]"
      ]
     },
     "execution_count": 53,
     "metadata": {},
     "output_type": "execute_result"
    }
   ],
   "source": [
    "# Do some feature selection, but I have no idea how to choose the number of features\n",
    "# maybe choose using gridsearch and see the model accuracy vs nunmber of features.\n",
    "kselector = SelectKBest(f_classif)\n",
    "kselector.fit(X, y)\n",
    "feature_df = pd.DataFrame({'feature': words_df.columns, 'score': kselector.scores_})\n",
    "feature_df = feature_df.sort_values(by = 'score', ascending = False).reset_index()\n",
    "feature_df.drop('index', axis = 1)"
   ]
  },
  {
   "cell_type": "code",
   "execution_count": 54,
   "metadata": {},
   "outputs": [],
   "source": [
    "# lets take the top 10% as our features?\n",
    "feature_list = [x for x in feature_df['feature']]"
   ]
  },
  {
   "cell_type": "code",
   "execution_count": 77,
   "metadata": {},
   "outputs": [
    {
     "data": {
      "text/plain": [
       "8645"
      ]
     },
     "execution_count": 77,
     "metadata": {},
     "output_type": "execute_result"
    }
   ],
   "source": [
    "top10p = round(len(feature_list) * 0.1)\n",
    "top5p  = round(len(feature_list) * 0.05)\n",
    "top5p"
   ]
  },
  {
   "cell_type": "code",
   "execution_count": 56,
   "metadata": {},
   "outputs": [
    {
     "data": {
      "text/plain": [
       "0    874\n",
       "1     73\n",
       "Name: scientist, dtype: int64"
      ]
     },
     "execution_count": 56,
     "metadata": {},
     "output_type": "execute_result"
    }
   ],
   "source": [
    "# lets take a look at our target variable to check if imbalance and needs touching up\n",
    "y.value_counts()"
   ]
  },
  {
   "cell_type": "code",
   "execution_count": 85,
   "metadata": {},
   "outputs": [
    {
     "name": "stdout",
     "output_type": "stream",
     "text": [
      "17291 17291\n"
     ]
    }
   ],
   "source": [
    "# to double check if we get the correct columns\n",
    "X = feature_df.head(top10p)\n",
    "X = X.drop(['index', 'score'], axis = 1)\n",
    "for_modelling = list(X['feature'])\n",
    "print(len(words_df[for_modelling].columns), len(for_modelling)) "
   ]
  },
  {
   "cell_type": "code",
   "execution_count": 99,
   "metadata": {},
   "outputs": [
    {
     "name": "stdout",
     "output_type": "stream",
     "text": [
      "[0.9371428571428572, 0.9285714285714286, 0.920952380952381, 0.9542857142857143, 0.9137931034482758] \n",
      " 0.9309490968801313 0.01402052869678527 0.01402052869678527\n"
     ]
    }
   ],
   "source": [
    "# lets try logistic regression model\n",
    "X = words_df[for_modelling]\n",
    "feature_names = X.columns\n",
    "X = X.astype(float)\n",
    "sscaler = StandardScaler()\n",
    "X = ss.fit_transform(X)\n",
    "\n",
    "stratk = StratifiedKFold(n_splits=5)\n",
    "score = []\n",
    "\n",
    "for train_index, test_index in stratk.split(X, y):\n",
    "    X_train, X_test = X[train_index, :], X[test_index, :]\n",
    "    y_train, y_test = y[train_index], y[test_index]\n",
    "    \n",
    "# By using SMOTE to upsample class 1 to match the number of class 0 cuz its severely imbalanced for ds vs non-ds\n",
    "# Note: only upsample the training set, not the test sample\n",
    "# To use roc_auc score for imbalanced data to get a sensing of True Positive and False Positive rates\n",
    "    \n",
    "    sm = SMOTE(random_state= 42)\n",
    "    X_train_smote, y_train_smote = sm.fit_sample(X_train, y_train)\n",
    "    logreg = LogisticRegression(C = 0.1, random_state= 42, penalty= 'l2', solver= 'liblinear')\n",
    "    logreg.fit(X_train_smote, y_train_smote)\n",
    "    y_hat = logreg.predict(X_test)\n",
    "    score.append(roc_auc_score(y_test, y_hat)) \n",
    "\n",
    "print(score, '\\n', np.mean(score), np.std(score), np.std(score))"
   ]
  },
  {
   "cell_type": "code",
   "execution_count": 87,
   "metadata": {},
   "outputs": [
    {
     "name": "stdout",
     "output_type": "stream",
     "text": [
      "8645 8645\n"
     ]
    }
   ],
   "source": [
    "# now we noe, using 10% of the features we can get 0.93. Lets try decreasing the number of features tto see if we can get somewhere in the middle\n",
    "X_5 = feature_df.head(top5p)\n",
    "X_5 = X_5.drop(['index', 'score'], axis = 1)\n",
    "for_modelling_5 = list(X_5['feature'])\n",
    "print(len(words_df[for_modelling_5].columns), len(for_modelling_5)) "
   ]
  },
  {
   "cell_type": "code",
   "execution_count": 97,
   "metadata": {},
   "outputs": [
    {
     "name": "stdout",
     "output_type": "stream",
     "text": [
      "[0.8857142857142858, 0.9914285714285714, 0.9638095238095239, 0.9971428571428572, 0.9256978653530378] \n",
      " 0.9527586206896552 0.041987320293456434\n"
     ]
    }
   ],
   "source": [
    "# lets try logistic regression model again with just 5% features\n",
    "# Funny how I use half the number of features and get a better score of 0.95 (5%) than 0.93 (10%).\n",
    "X_5 = words_df[for_modelling_5]\n",
    "feature_names_5 = X_5.columns\n",
    "X_5 = X_5.astype(float)\n",
    "ss = StandardScaler()\n",
    "X_5 = ss.fit_transform(X_5)\n",
    "\n",
    "stratk = StratifiedKFold(n_splits = 5)\n",
    "score = []\n",
    "\n",
    "for train_index, test_index in stratk.split(X_5, y):\n",
    "    X_train, X_test = X_5[train_index, :], X_5[test_index, :]\n",
    "    y_train, y_test = y[train_index], y[test_index]\n",
    "    \n",
    "    sm = SMOTE(random_state = 42)\n",
    "    X_train_smote, y_train_smote = sm.fit_sample(X_train, y_train)\n",
    "    logreg = LogisticRegression(C = 0.1, random_state = 42, penalty = 'l2', solver = 'liblinear')\n",
    "    logreg.fit(X_train_smote, y_train_smote)\n",
    "    y_hat = logreg.predict(X_test)\n",
    "    score.append(roc_auc_score(y_test, y_hat)) \n",
    "\n",
    "print(score, '\\n', np.mean(score), np.std(score))"
   ]
  },
  {
   "cell_type": "code",
   "execution_count": 95,
   "metadata": {},
   "outputs": [
    {
     "name": "stdout",
     "output_type": "stream",
     "text": [
      "4323 4323\n"
     ]
    }
   ],
   "source": [
    "top2p = round(len(feature_list) * 0.025)\n",
    "X_25 = feature_df.head(top2p)\n",
    "X_25 = X_25.drop(['index', 'score'], axis = 1)\n",
    "for_modelling_25 = list(X_25['feature'])\n",
    "print(len(words_df[for_modelling_25].columns), len(for_modelling_25)) "
   ]
  },
  {
   "cell_type": "code",
   "execution_count": 98,
   "metadata": {},
   "outputs": [
    {
     "name": "stdout",
     "output_type": "stream",
     "text": [
      "[0.8104761904761905, 0.9771428571428572, 0.7942857142857144, 0.7714285714285714, 0.8128078817733989] \n",
      " 0.8332282430213465 0.07345989812075421\n"
     ]
    }
   ],
   "source": [
    "# due to time constraints, lets just try 2.5% of the features and determine the amt of features I will be using\n",
    "# seems like using only 2.5% of the features gives a lousier score of 0.83. \n",
    "\n",
    "X_25 = words_df[for_modelling_25]\n",
    "feature_names_25 = X_25.columns\n",
    "X_25 = X_25.astype(float)\n",
    "ss = StandardScaler()\n",
    "X_25 = ss.fit_transform(X_25)\n",
    "\n",
    "stratk = StratifiedKFold(n_splits = 5)\n",
    "score = []\n",
    "\n",
    "for train_index, test_index in stratk.split(X_25, y):\n",
    "    X_train, X_test = X_25[train_index, :], X_25[test_index, :]\n",
    "    y_train, y_test = y[train_index], y[test_index]\n",
    "    \n",
    "    sm = SMOTE(random_state = 42)\n",
    "    X_train_smote, y_train_smote = sm.fit_sample(X_train, y_train)\n",
    "    logreg = LogisticRegression(C = 0.1, random_state = 42, penalty = 'l2', solver = 'liblinear')\n",
    "    logreg.fit(X_train_smote, y_train_smote)\n",
    "    y_hat = logreg.predict(X_test)\n",
    "    score.append(roc_auc_score(y_test, y_hat)) \n",
    "\n",
    "print(score, '\\n', np.mean(score), np.std(score))"
   ]
  },
  {
   "cell_type": "code",
   "execution_count": 100,
   "metadata": {},
   "outputs": [
    {
     "name": "stdout",
     "output_type": "stream",
     "text": [
      "8645 8645\n"
     ]
    }
   ],
   "source": [
    "naive = round(len(feature_list) * 0.05)\n",
    "X_nb = feature_df.head(naive)\n",
    "X_nb = X_nb.drop(['index', 'score'], axis = 1)\n",
    "for_modelling_nb = list(X_nb['feature'])\n",
    "print(len(words_df[for_modelling_nb].columns), len(for_modelling_nb)) "
   ]
  },
  {
   "cell_type": "code",
   "execution_count": 109,
   "metadata": {},
   "outputs": [
    {
     "name": "stdout",
     "output_type": "stream",
     "text": [
      "Gaussian:  [0.6809523809523809, 0.6209523809523809, 0.6485714285714286, 0.9242857142857144, 0.7725779967159276] \n",
      " 0.7294679802955665 0.10998733904783335\n",
      "Multi-Nomial:  [0.4219047619047619, 0.40285714285714286, 0.4504761904761905, 0.45285714285714285, 0.4782430213464696] \n",
      " 0.44126765188834155 0.026216712772416398\n",
      "Bernoulli:  [0.5552380952380952, 0.49142857142857144, 0.6333333333333333, 0.6042857142857143, 0.7828407224958949] \n",
      " 0.6134252873563218 0.09741704140223752\n"
     ]
    }
   ],
   "source": [
    "# lets try naive bayes stuff now (multinomial, gaussian), using 5% features (highest acc)\n",
    "# I wanna try standardising for naive bayes and see what happens\n",
    "# standardising for Gaussian actually gives a better acc of 0.74 compared to 0.73, not sure y, but simplicity sake lets just not do it \n",
    "X_nb = words_df[for_modelling_nb].values\n",
    "#X_nb = X_nb.astype(float)\n",
    "#ss = StandardScaler()\n",
    "#X_nb = ss.fit_transform(X_nb)\n",
    "\n",
    "stratk = StratifiedKFold(n_splits=5)\n",
    "score_g = []\n",
    "score_mn = []\n",
    "score_nbb = []\n",
    "\n",
    "for train_index, test_index in stratk.split(X_nb, y):\n",
    "    X_train, X_test = X_nb[train_index, :], X_nb[test_index, :]\n",
    "    y_train, y_test = y[train_index], y[test_index]\n",
    "    \n",
    "# still SMOTE to upsample\n",
    "\n",
    "    sm = SMOTE(random_state= 42)\n",
    "    X_train_smote, y_train_smote = sm.fit_sample(X_train, y_train)\n",
    "    nbg = GaussianNB()\n",
    "    mn = MultinomialNB()\n",
    "    nbb = BernoulliNB()\n",
    "    model_nbg = nbg.fit(X_train_smote, y_train_smote)\n",
    "    model_mn = mn.fit(X_train_smote, y_train_smote)\n",
    "    model_nbb = nbb.fit(X_train_smote, y_train_smote)\n",
    "    y_hat_nbg = nbg.predict(X_test)\n",
    "    y_hat_mn = mn.predict(X_test)\n",
    "    y_hat_nbb = nbb.predict(X_test)\n",
    "    score_g.append(roc_auc_score(y_test, y_hat_nbg))\n",
    "    score_mn.append(roc_auc_score(y_test, y_hat_mn))\n",
    "    score_nbb.append(roc_auc_score(y_test, y_hat_nbb))\n",
    "\n",
    "print('Gaussian: ', score_g, '\\n', np.mean(score_g), np.std(score_g))\n",
    "print('Multi-Nomial: ', score_mn, '\\n', np.mean(score_mn), np.std(score_mn))\n",
    "print('Bernoulli: ', score_nbb, '\\n', np.mean(score_nbb), np.std(score_nbb))\n",
    "# seems like Gaussian gives the best score of the three. But also has the highest standard deviation"
   ]
  },
  {
   "cell_type": "code",
   "execution_count": null,
   "metadata": {},
   "outputs": [],
   "source": [
    "# now lets do some random forest, if this has a higher acc, we cant explain much too but lets try"
   ]
  },
  {
   "cell_type": "code",
   "execution_count": 113,
   "metadata": {},
   "outputs": [
    {
     "name": "stdout",
     "output_type": "stream",
     "text": [
      "8645 8645\n"
     ]
    }
   ],
   "source": [
    "randomforest = round(len(feature_list) * 0.05)\n",
    "X_rf = feature_df.head(randomforest)\n",
    "X_rf = X_rf.drop(['index', 'score'], axis = 1)\n",
    "for_modelling_rf = list(X_rf['feature'])\n",
    "print(len(words_df[for_modelling_rf].columns), len(for_modelling_rf)) "
   ]
  },
  {
   "cell_type": "code",
   "execution_count": 114,
   "metadata": {},
   "outputs": [
    {
     "name": "stdout",
     "output_type": "stream",
     "text": [
      "Random Forest:  [0.5542857142857143, 0.6295238095238095, 0.518095238095238, 0.7428571428571428, 0.7397372742200328] \n",
      " 0.6368998357963875 0.09251650764332842\n"
     ]
    }
   ],
   "source": [
    "# random forest do not need to standardize, but still need SMOTE\n",
    "X_rf = words_df[for_modelling_rf].values\n",
    "\n",
    "stratk = StratifiedKFold(n_splits=5)\n",
    "score_rf = []\n",
    "\n",
    "\n",
    "for train_index, test_index in stratk.split(X_rf, y):\n",
    "    X_train, X_test = X_rf[train_index, :], X_rf[test_index, :]\n",
    "    y_train, y_test = y[train_index], y[test_index]\n",
    "    \n",
    "# still SMOTE to upsample\n",
    "\n",
    "    sm = SMOTE(random_state= 42)\n",
    "    X_train_smote, y_train_smote = sm.fit_sample(X_train, y_train)\n",
    "    rf = RandomForestClassifier(n_estimators = 500)\n",
    "    model_rf = rf.fit(X_train_smote, y_train_smote)\n",
    "    y_hat_rf = model_rf.predict(X_test)\n",
    "    score_rf.append(roc_auc_score(y_test, y_hat_rf))\n",
    "\n",
    "print('Random Forest: ', score_rf, '\\n', np.mean(score_rf), np.std(score_rf))\n",
    "# score for a priliminary random forest have quite an ok-but-not-the-best score of 0.629\n",
    "# we probably can do a gridsearch to finetune, but logitic regression is at 0.95, and fine tuning will not make random forest be much better"
   ]
  },
  {
   "cell_type": "code",
   "execution_count": 116,
   "metadata": {},
   "outputs": [
    {
     "name": "stdout",
     "output_type": "stream",
     "text": [
      "8645 8645\n"
     ]
    }
   ],
   "source": [
    "# finally some SVM, blackbox model\n",
    "vectormachine = round(len(feature_list) * 0.05)\n",
    "X_svm = feature_df.head(vectormachine)\n",
    "X_svm = X_svm.drop(['index', 'score'], axis = 1)\n",
    "for_modelling_svm = list(X_svm['feature'])\n",
    "print(len(words_df[for_modelling_svm].columns), len(for_modelling_svm)) "
   ]
  },
  {
   "cell_type": "code",
   "execution_count": 117,
   "metadata": {},
   "outputs": [
    {
     "name": "stdout",
     "output_type": "stream",
     "text": [
      "Support Vector Machine:  [0.5542857142857143, 0.6295238095238095, 0.518095238095238, 0.7428571428571428, 0.7397372742200328] \n",
      " 0.6368998357963875 0.09251650764332842\n"
     ]
    }
   ],
   "source": [
    "X_svm = words_df[for_modelling_svm].values\n",
    "\n",
    "stratk = StratifiedKFold(n_splits=5)\n",
    "score_svm = []\n",
    "\n",
    "\n",
    "for train_index, test_index in stratk.split(X_svm, y):\n",
    "    X_train, X_test = X_rf[train_index, :], X_rf[test_index, :]\n",
    "    y_train, y_test = y[train_index], y[test_index]\n",
    "    \n",
    "# still SMOTE to upsample\n",
    "\n",
    "    sm = SMOTE(random_state= 42)\n",
    "    X_train_smote, y_train_smote = sm.fit_sample(X_train, y_train)\n",
    "    svm = SVC(kernel= 'linear')\n",
    "    model_svm = rf.fit(X_train_smote, y_train_smote)\n",
    "    y_hat_svm = model_rf.predict(X_test)\n",
    "    score_svm.append(roc_auc_score(y_test, y_hat_svm))\n",
    "\n",
    "print('Support Vector Machine: ', score_svm, '\\n', np.mean(score_svm), np.std(score_svm))"
   ]
  },
  {
   "cell_type": "code",
   "execution_count": 119,
   "metadata": {},
   "outputs": [
    {
     "name": "stdout",
     "output_type": "stream",
     "text": [
      "8645 8645\n"
     ]
    }
   ],
   "source": [
    "logistic = round(len(feature_list) * 0.05)\n",
    "X_logreg = feature_df.head(logistic)\n",
    "X_logreg = X_logreg.drop(['index', 'score'], axis = 1)\n",
    "for_modelling_logreg = list(X_logreg['feature'])\n",
    "print(len(words_df[for_modelling_logreg].columns), len(for_modelling_logreg)) "
   ]
  },
  {
   "cell_type": "code",
   "execution_count": 120,
   "metadata": {},
   "outputs": [
    {
     "name": "stdout",
     "output_type": "stream",
     "text": [
      "Logistic Regression:  [0.8857142857142858, 0.9914285714285714, 0.9638095238095239, 0.9971428571428572, 0.9256978653530378] \n",
      " 0.9527586206896552 0.041987320293456434\n"
     ]
    }
   ],
   "source": [
    "X_logreg = words_df[for_modelling_logreg]\n",
    "feature_names_logreg = X_logreg.columns\n",
    "X_logreg = X_logreg.astype(float)\n",
    "ss = StandardScaler()\n",
    "X_logreg = ss.fit_transform(X_logreg)\n",
    "\n",
    "stratk = StratifiedKFold(n_splits = 5)\n",
    "score_logreg = []\n",
    "\n",
    "for train_index, test_index in stratk.split(X_logreg, y):\n",
    "    X_train, X_test = X_logreg[train_index, :], X_logreg[test_index, :]\n",
    "    y_train, y_test = y[train_index], y[test_index]\n",
    "    \n",
    "    sm = SMOTE(random_state = 42)\n",
    "    X_train_smote, y_train_smote = sm.fit_sample(X_train, y_train)\n",
    "    logreg = LogisticRegression(C = 0.1, random_state = 42, penalty = 'l2', solver = 'liblinear')\n",
    "    model_logreg = logreg.fit(X_train_smote, y_train_smote)\n",
    "    y_hat_logreg = logreg.predict(X_test)\n",
    "    score_logreg.append(roc_auc_score(y_test, y_hat_logreg)) \n",
    "\n",
    "print('Logistic Regression: ', score_logreg, '\\n', np.mean(score_logreg), np.std(score_logreg))"
   ]
  },
  {
   "cell_type": "code",
   "execution_count": 122,
   "metadata": {},
   "outputs": [
    {
     "name": "stdout",
     "output_type": "stream",
     "text": [
      "Confusion Matrix:  \n",
      " [[173   1]\n",
      " [  2  12]]\n",
      "----------------------------------------------------------------------------------------------------\n",
      "Classification Report:  \n",
      "               precision    recall  f1-score   support\n",
      "\n",
      "           0       0.99      0.99      0.99       174\n",
      "           1       0.92      0.86      0.89        14\n",
      "\n",
      "   micro avg       0.98      0.98      0.98       188\n",
      "   macro avg       0.96      0.93      0.94       188\n",
      "weighted avg       0.98      0.98      0.98       188\n",
      "\n"
     ]
    }
   ],
   "source": [
    "# model selection: logistic regression\n",
    "# result analysis \n",
    "\n",
    "print('Confusion Matrix: ', '\\n', confusion_matrix(y_test, y_hat_logreg))\n",
    "print('--' * 50)\n",
    "print('Classification Report: ', '\\n', classification_report(y_test, y_hat_logreg))"
   ]
  },
  {
   "cell_type": "code",
   "execution_count": 155,
   "metadata": {},
   "outputs": [
    {
     "data": {
      "text/html": [
       "<div>\n",
       "<style scoped>\n",
       "    .dataframe tbody tr th:only-of-type {\n",
       "        vertical-align: middle;\n",
       "    }\n",
       "\n",
       "    .dataframe tbody tr th {\n",
       "        vertical-align: top;\n",
       "    }\n",
       "\n",
       "    .dataframe thead th {\n",
       "        text-align: right;\n",
       "    }\n",
       "</style>\n",
       "<table border=\"1\" class=\"dataframe\">\n",
       "  <thead>\n",
       "    <tr style=\"text-align: right;\">\n",
       "      <th></th>\n",
       "      <th>feature</th>\n",
       "      <th>coefficient</th>\n",
       "      <th>abs_coefficient</th>\n",
       "    </tr>\n",
       "  </thead>\n",
       "  <tbody>\n",
       "    <tr>\n",
       "      <th>0</th>\n",
       "      <td>role_responsibilities_industry trend</td>\n",
       "      <td>0.380161</td>\n",
       "      <td>0.380161</td>\n",
       "    </tr>\n",
       "    <tr>\n",
       "      <th>1</th>\n",
       "      <td>role_responsibilities_experience finance</td>\n",
       "      <td>0.295341</td>\n",
       "      <td>0.295341</td>\n",
       "    </tr>\n",
       "    <tr>\n",
       "      <th>2</th>\n",
       "      <td>role_responsibilities_group focusing data</td>\n",
       "      <td>0.206950</td>\n",
       "      <td>0.206950</td>\n",
       "    </tr>\n",
       "    <tr>\n",
       "      <th>3</th>\n",
       "      <td>role_responsibilities_introducing tookitaki to...</td>\n",
       "      <td>0.156046</td>\n",
       "      <td>0.156046</td>\n",
       "    </tr>\n",
       "    <tr>\n",
       "      <th>4</th>\n",
       "      <td>role_responsibilities_introducing tookitaki</td>\n",
       "      <td>0.156046</td>\n",
       "      <td>0.156046</td>\n",
       "    </tr>\n",
       "    <tr>\n",
       "      <th>5</th>\n",
       "      <td>role_responsibilities_strategic technology</td>\n",
       "      <td>0.155880</td>\n",
       "      <td>0.155880</td>\n",
       "    </tr>\n",
       "    <tr>\n",
       "      <th>6</th>\n",
       "      <td>role_responsibilities_needs technical feasibility</td>\n",
       "      <td>0.152610</td>\n",
       "      <td>0.152610</td>\n",
       "    </tr>\n",
       "    <tr>\n",
       "      <th>7</th>\n",
       "      <td>role_responsibilities_data based</td>\n",
       "      <td>0.108385</td>\n",
       "      <td>0.108385</td>\n",
       "    </tr>\n",
       "    <tr>\n",
       "      <th>8</th>\n",
       "      <td>role_responsibilities_big data analytics</td>\n",
       "      <td>-0.089200</td>\n",
       "      <td>0.089200</td>\n",
       "    </tr>\n",
       "    <tr>\n",
       "      <th>9</th>\n",
       "      <td>role_responsibilities_drive innovation</td>\n",
       "      <td>0.083399</td>\n",
       "      <td>0.083399</td>\n",
       "    </tr>\n",
       "    <tr>\n",
       "      <th>10</th>\n",
       "      <td>role_responsibilities_different data</td>\n",
       "      <td>0.073875</td>\n",
       "      <td>0.073875</td>\n",
       "    </tr>\n",
       "    <tr>\n",
       "      <th>11</th>\n",
       "      <td>role_responsibilities_exciting opportunity</td>\n",
       "      <td>0.057855</td>\n",
       "      <td>0.057855</td>\n",
       "    </tr>\n",
       "    <tr>\n",
       "      <th>12</th>\n",
       "      <td>role_responsibilities_models xa0</td>\n",
       "      <td>0.057167</td>\n",
       "      <td>0.057167</td>\n",
       "    </tr>\n",
       "    <tr>\n",
       "      <th>13</th>\n",
       "      <td>role_responsibilities_actionable recommendations</td>\n",
       "      <td>0.055687</td>\n",
       "      <td>0.055687</td>\n",
       "    </tr>\n",
       "    <tr>\n",
       "      <th>14</th>\n",
       "      <td>role_responsibilities_models algorithms</td>\n",
       "      <td>0.050087</td>\n",
       "      <td>0.050087</td>\n",
       "    </tr>\n",
       "    <tr>\n",
       "      <th>15</th>\n",
       "      <td>role_responsibilities_relevant data</td>\n",
       "      <td>0.048499</td>\n",
       "      <td>0.048499</td>\n",
       "    </tr>\n",
       "    <tr>\n",
       "      <th>16</th>\n",
       "      <td>role_responsibilities_propose solutions strate...</td>\n",
       "      <td>0.047949</td>\n",
       "      <td>0.047949</td>\n",
       "    </tr>\n",
       "    <tr>\n",
       "      <th>17</th>\n",
       "      <td>role_responsibilities_scientist process confid...</td>\n",
       "      <td>0.047949</td>\n",
       "      <td>0.047949</td>\n",
       "    </tr>\n",
       "    <tr>\n",
       "      <th>18</th>\n",
       "      <td>role_responsibilities_cutting edge tools</td>\n",
       "      <td>0.047949</td>\n",
       "      <td>0.047949</td>\n",
       "    </tr>\n",
       "    <tr>\n",
       "      <th>19</th>\n",
       "      <td>role_responsibilities_predictive analytics</td>\n",
       "      <td>0.045336</td>\n",
       "      <td>0.045336</td>\n",
       "    </tr>\n",
       "    <tr>\n",
       "      <th>20</th>\n",
       "      <td>role_responsibilities_data models algorithms</td>\n",
       "      <td>0.043390</td>\n",
       "      <td>0.043390</td>\n",
       "    </tr>\n",
       "    <tr>\n",
       "      <th>21</th>\n",
       "      <td>role_responsibilities_models monitor</td>\n",
       "      <td>0.043361</td>\n",
       "      <td>0.043361</td>\n",
       "    </tr>\n",
       "    <tr>\n",
       "      <th>22</th>\n",
       "      <td>role_responsibilities_build innovative data</td>\n",
       "      <td>0.043348</td>\n",
       "      <td>0.043348</td>\n",
       "    </tr>\n",
       "    <tr>\n",
       "      <th>23</th>\n",
       "      <td>role_responsibilities_innovative data products</td>\n",
       "      <td>0.043348</td>\n",
       "      <td>0.043348</td>\n",
       "    </tr>\n",
       "    <tr>\n",
       "      <th>24</th>\n",
       "      <td>role_responsibilities_custom data</td>\n",
       "      <td>0.043331</td>\n",
       "      <td>0.043331</td>\n",
       "    </tr>\n",
       "    <tr>\n",
       "      <th>25</th>\n",
       "      <td>role_responsibilities_head data</td>\n",
       "      <td>0.043318</td>\n",
       "      <td>0.043318</td>\n",
       "    </tr>\n",
       "    <tr>\n",
       "      <th>26</th>\n",
       "      <td>role_responsibilities_systems support</td>\n",
       "      <td>0.043146</td>\n",
       "      <td>0.043146</td>\n",
       "    </tr>\n",
       "    <tr>\n",
       "      <th>27</th>\n",
       "      <td>role_responsibilities_build innovative</td>\n",
       "      <td>0.043122</td>\n",
       "      <td>0.043122</td>\n",
       "    </tr>\n",
       "    <tr>\n",
       "      <th>28</th>\n",
       "      <td>role_responsibilities_data mining</td>\n",
       "      <td>0.042681</td>\n",
       "      <td>0.042681</td>\n",
       "    </tr>\n",
       "    <tr>\n",
       "      <th>29</th>\n",
       "      <td>role_responsibilities_data scientist</td>\n",
       "      <td>0.042449</td>\n",
       "      <td>0.042449</td>\n",
       "    </tr>\n",
       "    <tr>\n",
       "      <th>30</th>\n",
       "      <td>role_responsibilities_organization design</td>\n",
       "      <td>0.039527</td>\n",
       "      <td>0.039527</td>\n",
       "    </tr>\n",
       "    <tr>\n",
       "      <th>31</th>\n",
       "      <td>role_responsibilities_apply data</td>\n",
       "      <td>0.036068</td>\n",
       "      <td>0.036068</td>\n",
       "    </tr>\n",
       "    <tr>\n",
       "      <th>32</th>\n",
       "      <td>role_responsibilities_advanced statistical</td>\n",
       "      <td>0.036038</td>\n",
       "      <td>0.036038</td>\n",
       "    </tr>\n",
       "    <tr>\n",
       "      <th>33</th>\n",
       "      <td>role_responsibilities_applying machine</td>\n",
       "      <td>0.035390</td>\n",
       "      <td>0.035390</td>\n",
       "    </tr>\n",
       "    <tr>\n",
       "      <th>34</th>\n",
       "      <td>role_responsibilities_applying machine learning</td>\n",
       "      <td>0.035390</td>\n",
       "      <td>0.035390</td>\n",
       "    </tr>\n",
       "    <tr>\n",
       "      <th>35</th>\n",
       "      <td>role_responsibilities_advanced statistical ana...</td>\n",
       "      <td>0.035286</td>\n",
       "      <td>0.035286</td>\n",
       "    </tr>\n",
       "    <tr>\n",
       "      <th>36</th>\n",
       "      <td>role_responsibilities_develop data science</td>\n",
       "      <td>0.034075</td>\n",
       "      <td>0.034075</td>\n",
       "    </tr>\n",
       "    <tr>\n",
       "      <th>37</th>\n",
       "      <td>role_responsibilities_machine learning</td>\n",
       "      <td>-0.032961</td>\n",
       "      <td>0.032961</td>\n",
       "    </tr>\n",
       "    <tr>\n",
       "      <th>38</th>\n",
       "      <td>role_responsibilities_large data</td>\n",
       "      <td>0.032958</td>\n",
       "      <td>0.032958</td>\n",
       "    </tr>\n",
       "    <tr>\n",
       "      <th>39</th>\n",
       "      <td>role_responsibilities_techniques solve</td>\n",
       "      <td>0.032909</td>\n",
       "      <td>0.032909</td>\n",
       "    </tr>\n",
       "    <tr>\n",
       "      <th>40</th>\n",
       "      <td>role_responsibilities_techniques solve complex</td>\n",
       "      <td>0.032909</td>\n",
       "      <td>0.032909</td>\n",
       "    </tr>\n",
       "    <tr>\n",
       "      <th>41</th>\n",
       "      <td>role_responsibilities_learning reinforced</td>\n",
       "      <td>0.032909</td>\n",
       "      <td>0.032909</td>\n",
       "    </tr>\n",
       "    <tr>\n",
       "      <th>42</th>\n",
       "      <td>role_responsibilities_effectively conceptualiz...</td>\n",
       "      <td>0.032909</td>\n",
       "      <td>0.032909</td>\n",
       "    </tr>\n",
       "    <tr>\n",
       "      <th>43</th>\n",
       "      <td>role_responsibilities_effectively conceptualize</td>\n",
       "      <td>0.032909</td>\n",
       "      <td>0.032909</td>\n",
       "    </tr>\n",
       "    <tr>\n",
       "      <th>44</th>\n",
       "      <td>role_responsibilities_learning techniques solve</td>\n",
       "      <td>0.032909</td>\n",
       "      <td>0.032909</td>\n",
       "    </tr>\n",
       "    <tr>\n",
       "      <th>45</th>\n",
       "      <td>role_responsibilities_sea data responsible</td>\n",
       "      <td>0.032909</td>\n",
       "      <td>0.032909</td>\n",
       "    </tr>\n",
       "    <tr>\n",
       "      <th>46</th>\n",
       "      <td>role_responsibilities_internal stakeholders co...</td>\n",
       "      <td>0.032909</td>\n",
       "      <td>0.032909</td>\n",
       "    </tr>\n",
       "    <tr>\n",
       "      <th>47</th>\n",
       "      <td>role_responsibilities_data scientist applying</td>\n",
       "      <td>0.032909</td>\n",
       "      <td>0.032909</td>\n",
       "    </tr>\n",
       "    <tr>\n",
       "      <th>48</th>\n",
       "      <td>role_responsibilities_reinforced learning deci...</td>\n",
       "      <td>0.032909</td>\n",
       "      <td>0.032909</td>\n",
       "    </tr>\n",
       "    <tr>\n",
       "      <th>49</th>\n",
       "      <td>role_responsibilities_practical algorithms</td>\n",
       "      <td>0.032909</td>\n",
       "      <td>0.032909</td>\n",
       "    </tr>\n",
       "  </tbody>\n",
       "</table>\n",
       "</div>"
      ],
      "text/plain": [
       "                                              feature  coefficient  \\\n",
       "0                role_responsibilities_industry trend     0.380161   \n",
       "1            role_responsibilities_experience finance     0.295341   \n",
       "2           role_responsibilities_group focusing data     0.206950   \n",
       "3   role_responsibilities_introducing tookitaki to...     0.156046   \n",
       "4         role_responsibilities_introducing tookitaki     0.156046   \n",
       "5          role_responsibilities_strategic technology     0.155880   \n",
       "6   role_responsibilities_needs technical feasibility     0.152610   \n",
       "7                    role_responsibilities_data based     0.108385   \n",
       "8            role_responsibilities_big data analytics    -0.089200   \n",
       "9              role_responsibilities_drive innovation     0.083399   \n",
       "10               role_responsibilities_different data     0.073875   \n",
       "11         role_responsibilities_exciting opportunity     0.057855   \n",
       "12                   role_responsibilities_models xa0     0.057167   \n",
       "13   role_responsibilities_actionable recommendations     0.055687   \n",
       "14            role_responsibilities_models algorithms     0.050087   \n",
       "15                role_responsibilities_relevant data     0.048499   \n",
       "16  role_responsibilities_propose solutions strate...     0.047949   \n",
       "17  role_responsibilities_scientist process confid...     0.047949   \n",
       "18           role_responsibilities_cutting edge tools     0.047949   \n",
       "19         role_responsibilities_predictive analytics     0.045336   \n",
       "20       role_responsibilities_data models algorithms     0.043390   \n",
       "21               role_responsibilities_models monitor     0.043361   \n",
       "22        role_responsibilities_build innovative data     0.043348   \n",
       "23     role_responsibilities_innovative data products     0.043348   \n",
       "24                  role_responsibilities_custom data     0.043331   \n",
       "25                    role_responsibilities_head data     0.043318   \n",
       "26              role_responsibilities_systems support     0.043146   \n",
       "27             role_responsibilities_build innovative     0.043122   \n",
       "28                  role_responsibilities_data mining     0.042681   \n",
       "29               role_responsibilities_data scientist     0.042449   \n",
       "30          role_responsibilities_organization design     0.039527   \n",
       "31                   role_responsibilities_apply data     0.036068   \n",
       "32         role_responsibilities_advanced statistical     0.036038   \n",
       "33             role_responsibilities_applying machine     0.035390   \n",
       "34    role_responsibilities_applying machine learning     0.035390   \n",
       "35  role_responsibilities_advanced statistical ana...     0.035286   \n",
       "36         role_responsibilities_develop data science     0.034075   \n",
       "37             role_responsibilities_machine learning    -0.032961   \n",
       "38                   role_responsibilities_large data     0.032958   \n",
       "39             role_responsibilities_techniques solve     0.032909   \n",
       "40     role_responsibilities_techniques solve complex     0.032909   \n",
       "41          role_responsibilities_learning reinforced     0.032909   \n",
       "42  role_responsibilities_effectively conceptualiz...     0.032909   \n",
       "43    role_responsibilities_effectively conceptualize     0.032909   \n",
       "44    role_responsibilities_learning techniques solve     0.032909   \n",
       "45         role_responsibilities_sea data responsible     0.032909   \n",
       "46  role_responsibilities_internal stakeholders co...     0.032909   \n",
       "47      role_responsibilities_data scientist applying     0.032909   \n",
       "48  role_responsibilities_reinforced learning deci...     0.032909   \n",
       "49         role_responsibilities_practical algorithms     0.032909   \n",
       "\n",
       "    abs_coefficient  \n",
       "0          0.380161  \n",
       "1          0.295341  \n",
       "2          0.206950  \n",
       "3          0.156046  \n",
       "4          0.156046  \n",
       "5          0.155880  \n",
       "6          0.152610  \n",
       "7          0.108385  \n",
       "8          0.089200  \n",
       "9          0.083399  \n",
       "10         0.073875  \n",
       "11         0.057855  \n",
       "12         0.057167  \n",
       "13         0.055687  \n",
       "14         0.050087  \n",
       "15         0.048499  \n",
       "16         0.047949  \n",
       "17         0.047949  \n",
       "18         0.047949  \n",
       "19         0.045336  \n",
       "20         0.043390  \n",
       "21         0.043361  \n",
       "22         0.043348  \n",
       "23         0.043348  \n",
       "24         0.043331  \n",
       "25         0.043318  \n",
       "26         0.043146  \n",
       "27         0.043122  \n",
       "28         0.042681  \n",
       "29         0.042449  \n",
       "30         0.039527  \n",
       "31         0.036068  \n",
       "32         0.036038  \n",
       "33         0.035390  \n",
       "34         0.035390  \n",
       "35         0.035286  \n",
       "36         0.034075  \n",
       "37         0.032961  \n",
       "38         0.032958  \n",
       "39         0.032909  \n",
       "40         0.032909  \n",
       "41         0.032909  \n",
       "42         0.032909  \n",
       "43         0.032909  \n",
       "44         0.032909  \n",
       "45         0.032909  \n",
       "46         0.032909  \n",
       "47         0.032909  \n",
       "48         0.032909  \n",
       "49         0.032909  "
      ]
     },
     "execution_count": 155,
     "metadata": {},
     "output_type": "execute_result"
    }
   ],
   "source": [
    "coefficient = []\n",
    "for coefficients in list(logreg.coef_):\n",
    "    for value in coefficients:\n",
    "        coefficient.append(value)\n",
    "\n",
    "feature = feature_names_logreg\n",
    "feature_impt = pd.DataFrame(feature, columns = ['feature'])\n",
    "feature_impt['coefficient'] = coefficient\n",
    "feature_impt['abs_coefficient'] = feature_impt['coefficient'].abs()\n",
    "feature_impt = feature_impt.sort_values(by = 'abs_coefficient', ascending = False).reset_index()\n",
    "feature_impt = feature_impt.drop('index', axis = 1)\n",
    "feature_impt.head(50)"
   ]
  },
  {
   "cell_type": "markdown",
   "metadata": {},
   "source": [
    "# Writeup for Question 2, some reflections\n",
    "\n",
    "After modelling, I will pick logistic regression as my final model. Partially because of the high accuracy, but because we can actually explain the features we are going to use to a larger extend than the other models.\n",
    "\n",
    "I experimented with the number of features used (10%, 5% and 2.5%) of the countvectorized feature and observed that 5% have highest accuracy. However, using more features will give a model with less variance during the cross validation which means less overfitting (strange).\n",
    "\n",
    "Also we have to strike a balance between number of features used as it will translate to the amount of words that needs to appear in a job description / roles & responsibilities of a data scientist. So for this issue, I will leave it to my boss(?) or HR to decide for themselves. I will simply present my findings.\n",
    "\n",
    "Deeper into the model we have chosen, if we were to look at the feature importance; <br>\n",
    "Magnitude of 'influence' of a feature that will determine how that target variable be classified given that feature as a predictor(at least this is how i understand it) <br>\n",
    "<br>\n",
    "All of the top 50 positive coefficients comes from roles and responsibilities and it means that it is a very important category to differentiate a Data Scientist (DS) from a non-DS. If we look at the words, the words also tally to our domain knowlege of the roles and responsibilities of a DS e.g. 'models', 'algorithms', 'statistical analysis'."
   ]
  },
  {
   "cell_type": "markdown",
   "metadata": {},
   "source": [
    "# Bonus Problem\n",
    "Your boss would rather tell a client incorrectly that they would get a lower salary job than tell a client incorrectly that they would get a high salary job. Adjust one of your models to ease his mind, and explain what it is doing and any tradeoffs. Plot the ROC curve.\n",
    "\n",
    "Answer the salary discussion by using your model to explain the tradeoffs between detecting high vs low salary positions.\n",
    "\n",
    "Convert your executive summary into a public blog post of at least 500 words, in which you document your approach in a tutorial for other aspiring data scientists. Link to this in your notebook."
   ]
  },
  {
   "cell_type": "code",
   "execution_count": 163,
   "metadata": {},
   "outputs": [
    {
     "data": {
      "text/plain": [
       "low       319\n",
       "high      317\n",
       "medium    309\n",
       "Name: salary_classification, dtype: int64"
      ]
     },
     "execution_count": 163,
     "metadata": {},
     "output_type": "execute_result"
    }
   ],
   "source": [
    "X_class = data_q1.drop(['salary_lower', 'salary_classification'], axis = 1)\n",
    "y_class = data_q1['salary_classification'].values\n",
    "data_q1['salary_classification'].value_counts()"
   ]
  },
  {
   "cell_type": "code",
   "execution_count": 164,
   "metadata": {},
   "outputs": [
    {
     "name": "stdout",
     "output_type": "stream",
     "text": [
      "661 661 284 284\n"
     ]
    }
   ],
   "source": [
    "X_train, X_test, y_train, y_test = train_test_split(X_class.values, y_class, random_state = 42, test_size = 0.3)\n",
    "print(len(X_train), len(y_train), len(X_test), len(y_test))"
   ]
  },
  {
   "cell_type": "code",
   "execution_count": 165,
   "metadata": {},
   "outputs": [
    {
     "data": {
      "text/plain": [
       "high      0.345070\n",
       "low       0.341549\n",
       "medium    0.313380\n",
       "dtype: float64"
      ]
     },
     "execution_count": 165,
     "metadata": {},
     "output_type": "execute_result"
    }
   ],
   "source": [
    "baseline = (pd.Series(y_test)).value_counts() / len(pd.Series(y_test))\n",
    "baseline"
   ]
  },
  {
   "cell_type": "code",
   "execution_count": 166,
   "metadata": {},
   "outputs": [
    {
     "name": "stdout",
     "output_type": "stream",
     "text": [
      "[0.58208955 0.49253731 0.57575758 0.56060606 0.65151515 0.57575758\n",
      " 0.54545455 0.56060606 0.56060606 0.58461538] 0.5689545280590056 0.037319621313458756 0.545774647887324\n",
      "              precision    recall  f1-score   support\n",
      "\n",
      "        high       0.68      0.57      0.62        98\n",
      "         low       0.59      0.62      0.60        97\n",
      "      medium       0.39      0.44      0.41        89\n",
      "\n",
      "   micro avg       0.55      0.55      0.55       284\n",
      "   macro avg       0.55      0.54      0.55       284\n",
      "weighted avg       0.56      0.55      0.55       284\n",
      "\n"
     ]
    }
   ],
   "source": [
    "# Logistic Regression for question 1 where it's a multi-class logistic regression model\n",
    "logreg = LogisticRegression(solver = 'lbfgs', max_iter = 10000, multi_class = 'auto')\n",
    "train_score = cross_val_score(logreg, X_train, y_train, cv = 10)\n",
    "model = logreg.fit(X_train, y_train)\n",
    "test_score = model.score(X_test, y_test)\n",
    "y_pred_log = model.predict(X_test)\n",
    "print(train_score, np.mean(train_score), np.std(train_score), test_score)\n",
    "print(metrics.classification_report(y_test, y_pred_log))"
   ]
  },
  {
   "cell_type": "code",
   "execution_count": 173,
   "metadata": {},
   "outputs": [
    {
     "data": {
      "text/plain": [
       "5000"
      ]
     },
     "execution_count": 173,
     "metadata": {},
     "output_type": "execute_result"
    }
   ],
   "source": [
    "median_salary = int(np.median(data_q1['salary_lower']))\n",
    "median_salary"
   ]
  },
  {
   "cell_type": "code",
   "execution_count": 177,
   "metadata": {},
   "outputs": [],
   "source": [
    "# for bonus question sake, I will use a binary class of 1 = salary range [0 to median salary], 0 = [median salary and above]\n",
    "# 1 for low since boss likes low salary\n",
    "data_q1['salary_lower'] = data_q1['salary_lower'].astype(int)\n",
    "to_class = list(data_q1['salary_lower'])\n",
    "classified_bonus = []\n",
    "for salary in to_class:\n",
    "    if salary <= median_salary:\n",
    "        classified_bonus.append(1)\n",
    "    else:\n",
    "        classified_bonus.append(0)\n",
    "data_q1['salary_classification_bonus'] = classified_bonus"
   ]
  },
  {
   "cell_type": "code",
   "execution_count": 179,
   "metadata": {},
   "outputs": [
    {
     "data": {
      "text/plain": [
       "1    0.544974\n",
       "0    0.455026\n",
       "Name: salary_classification_bonus, dtype: float64"
      ]
     },
     "execution_count": 179,
     "metadata": {},
     "output_type": "execute_result"
    }
   ],
   "source": [
    "X_class = data_q1.drop(['salary_lower', 'salary_classification', 'salary_classification_bonus'], axis = 1)\n",
    "y_class = data_q1['salary_classification_bonus'].values\n",
    "data_q1['salary_classification_bonus'].value_counts()\n",
    "baseline = data_q1['salary_classification_bonus'].value_counts() / len(data_q1['salary_classification_bonus'])\n",
    "baseline"
   ]
  },
  {
   "cell_type": "code",
   "execution_count": 180,
   "metadata": {},
   "outputs": [
    {
     "name": "stdout",
     "output_type": "stream",
     "text": [
      "661 661 284 284\n"
     ]
    }
   ],
   "source": [
    "X_train, X_test, y_train, y_test = train_test_split(X_class.values, y_class, random_state = 42, test_size = 0.3)\n",
    "print(len(X_train), len(y_train), len(X_test), len(y_test))"
   ]
  },
  {
   "cell_type": "code",
   "execution_count": 231,
   "metadata": {},
   "outputs": [
    {
     "name": "stdout",
     "output_type": "stream",
     "text": [
      "[0.68656716 0.68656716 0.67164179 0.6969697  0.77272727 0.68181818\n",
      " 0.74242424 0.65151515 0.66153846 0.70769231] 0.6959461434088301 0.03509816021167362 0.7288732394366197\n",
      "              precision    recall  f1-score   support\n",
      "\n",
      "           0       0.66      0.78      0.71       122\n",
      "           1       0.81      0.69      0.74       162\n",
      "\n",
      "   micro avg       0.73      0.73      0.73       284\n",
      "   macro avg       0.73      0.74      0.73       284\n",
      "weighted avg       0.74      0.73      0.73       284\n",
      "\n",
      "0.7350232746407609\n",
      "   pred_1  pred_0\n",
      "1      95      27\n",
      "0      50     112\n"
     ]
    }
   ],
   "source": [
    "# Logistic Regression for bonus question using binary target variable\n",
    "# AUC score of 0.73, but predict high salary while it actually low salary has 50 which is not good. \n",
    "logreg = LogisticRegression(solver = 'lbfgs', max_iter = 10000, multi_class = 'auto')\n",
    "train_score = cross_val_score(logreg, X_train, y_train, cv = 10)\n",
    "model = logreg.fit(X_train, y_train)\n",
    "test_score = model.score(X_test, y_test)\n",
    "y_pred_log = model.predict(X_test)\n",
    "logreg_confuse = pd.DataFrame(metrics.confusion_matrix(y_test, y_pred_log), columns = ['pred_1', 'pred_0'], index = ['1', '0'])\n",
    "logreg_auc = roc_auc_score(y_test, y_pred_log)\n",
    "print(train_score, np.mean(train_score), np.std(train_score), test_score)\n",
    "print(metrics.classification_report(y_test, y_pred_log))\n",
    "print(logreg_auc)\n",
    "print(logreg_confuse)"
   ]
  },
  {
   "cell_type": "code",
   "execution_count": 214,
   "metadata": {},
   "outputs": [
    {
     "data": {
      "text/plain": [
       "numpy.ndarray"
      ]
     },
     "execution_count": 214,
     "metadata": {},
     "output_type": "execute_result"
    }
   ],
   "source": [
    "type(y_pred_log)"
   ]
  },
  {
   "cell_type": "code",
   "execution_count": 235,
   "metadata": {},
   "outputs": [
    {
     "name": "stdout",
     "output_type": "stream",
     "text": [
      "threshold:  0.1 \n",
      "    pred_1  pred_0\n",
      "1       5     117\n",
      "0       1     161 \n",
      " AUC: 0.5174053835256022\n",
      "threshold:  0.2 \n",
      "    pred_1  pred_0\n",
      "1      24      98\n",
      "0       2     160 \n",
      " AUC: 0.592187816231532\n",
      "threshold:  0.3 \n",
      "    pred_1  pred_0\n",
      "1      41      81\n",
      "0       9     153 \n",
      " AUC: 0.6402550091074681\n",
      "threshold:  0.4 \n",
      "    pred_1  pred_0\n",
      "1      68      54\n",
      "0      22     140 \n",
      " AUC: 0.7107872900222626\n",
      "threshold:  0.5 \n",
      "    pred_1  pred_0\n",
      "1      95      27\n",
      "0      50     112 \n",
      " AUC: 0.7350232746407609\n",
      "threshold:  0.6 \n",
      "    pred_1  pred_0\n",
      "1     104      18\n",
      "0      61     101 \n",
      " AUC: 0.7379579032584498\n",
      "threshold:  0.7 \n",
      "    pred_1  pred_0\n",
      "1     106      16\n",
      "0      78      84 \n",
      " AUC: 0.6936854887674561\n",
      "threshold:  0.8 \n",
      "    pred_1  pred_0\n",
      "1     120       2\n",
      "0     124      38 \n",
      " AUC: 0.6090872293058085\n",
      "threshold:  0.9 \n",
      "    pred_1  pred_0\n",
      "1     122       0\n",
      "0     148      14 \n",
      " AUC: 0.5432098765432098\n"
     ]
    }
   ],
   "source": [
    "# lets try playing with the threshold of the model\n",
    "threshold_range = [0.1, 0.2, 0.3, 0.4, 0.5, 0.6, 0.7, 0.8, 0.9]\n",
    "\n",
    "y_prob_log = list(model.predict_proba(X_test)[:, 1])\n",
    "for threshold in threshold_range:\n",
    "    y_pred = []\n",
    "    for probability in y_prob_log:\n",
    "        if probability > threshold:\n",
    "            y_pred.append(1)\n",
    "        else:\n",
    "            y_pred.append(0)\n",
    "    y_pred = np.array(y_pred)\n",
    "    matrix = pd.DataFrame(metrics.confusion_matrix(y_test, y_pred), columns = ['pred_1', 'pred_0'], index = ['1', '0'])\n",
    "    auc = roc_auc_score(y_test, y_pred)\n",
    "    print('threshold: ', threshold, '\\n', matrix, '\\n', 'AUC:', auc)"
   ]
  },
  {
   "cell_type": "code",
   "execution_count": 250,
   "metadata": {},
   "outputs": [
    {
     "data": {
      "image/png": "[encoded data removed]",
      "text/plain": [
       "<Figure size 576x432 with 1 Axes>"
      ]
     },
     "metadata": {
      "image/png": {
       "height": 396,
       "width": 527
      },
      "needs_background": "light"
     },
     "output_type": "display_data"
    }
   ],
   "source": [
    "# lets plotting ROC curve for the different thresholds\n",
    "y_proba = model.predict_proba(X_test)[:, 1]\n",
    "fpr_logreg, tpr_logreg, _ = roc_curve(y_test, y_proba)\n",
    "auc_logreg = metrics.auc(fpr_logreg, tpr_logreg)\n",
    "fig = plt.figure(figsize = (8, 6))\n",
    "ax = plt.gca()\n",
    "ax.plot(fpr_logreg, tpr_logreg, label = 'Logistic Regression (area = %0.2f)' % auc_logreg, linewidth = 4)\n",
    "plt.plot([0, 1], [0, 1], 'k--', label = 'Baseline (area = 0.50)', linewidth = 4)\n",
    "plt.xlabel('False Positive Rate', fontsize = 18)\n",
    "plt.ylabel('True Positive Rate', fontsize = 18)\n",
    "plt.title('Receiver operating characteristic (ROC): Salary below median', fontsize = 18)\n",
    "plt.legend(loc = \"lower right\")\n",
    "plt.show()"
   ]
  },
  {
   "cell_type": "markdown",
   "metadata": {},
   "source": [
    "# Executive Summary\n",
    "\n",
    "Firstly, ROC Curves summarize the trade-off between the true positive rate and false positive rate for a predictive model using different probability thresholds.(https://machinelearningmastery.com/roc-curves-and-precision-recall-curves-for-classification-in-python/). Therefore if we were to play with the threshold, we will get different AUC values as shown above with the confusion matrix. <br>\n",
    "<br>\n",
    "Since this question specify \"Your boss would rather tell a client incorrectly that they would get a lower salary job than tell a client incorrectly that they would get a high salary job.\" Translating this into modelling context will be to have more predicted 1's (salary below median) than 0's (salary above median). However, since we cannot edit the target variable, we can only tune our model to our boss' needs which in this case will not be the most ideal/accurate model using ROC-AUC as an evaluation matrix. <br>\n",
    "<br>\n",
    "Going onto evaluation matrix, it is important to define a suitable evaluation matrix for any problem. In this case, our evaluation matrix will be the true positive and false positive rates instead of AUC scores. So from the above outputs, having a threshold of 0.7-0.8 seems reasonably skewed towards predicting 1's regardless of it actually being 1 or 0 on top of not sacrificing so much of the AUC score(from 0.735 for 0.5 threshold to 0.694-0.610). Hence, since there is a decision to be made, we can present both thresholds (0.7 & 0.8) and bosses will make a call. "
   ]
  }
 ],
 "metadata": {
  "kernelspec": {
   "display_name": "Python 3",
   "language": "python",
   "name": "python3"
  },
  "language_info": {
   "codemirror_mode": {
    "name": "ipython",
    "version": 3
   },
   "file_extension": ".py",
   "mimetype": "text/x-python",
   "name": "python",
   "nbconvert_exporter": "python",
   "pygments_lexer": "ipython3",
   "version": "3.7.1"
  }
 },
 "nbformat": 4,
 "nbformat_minor": 2
}
